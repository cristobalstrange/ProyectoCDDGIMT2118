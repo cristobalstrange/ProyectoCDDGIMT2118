{
 "cells": [
  {
   "cell_type": "code",
   "execution_count": 1,
   "metadata": {},
   "outputs": [],
   "source": [
    "import ee\n",
    "\n",
    "ee.Authenticate()\n",
    "ee.Initialize(project='cibravo2')"
   ]
  },
  {
   "cell_type": "code",
   "execution_count": 5,
   "metadata": {},
   "outputs": [
    {
     "data": {
      "text/html": [
       "<div>\n",
       "<style scoped>\n",
       "    .dataframe tbody tr th:only-of-type {\n",
       "        vertical-align: middle;\n",
       "    }\n",
       "\n",
       "    .dataframe tbody tr th {\n",
       "        vertical-align: top;\n",
       "    }\n",
       "\n",
       "    .dataframe thead th {\n",
       "        text-align: right;\n",
       "    }\n",
       "</style>\n",
       "<table border=\"1\" class=\"dataframe\">\n",
       "  <thead>\n",
       "    <tr style=\"text-align: right;\">\n",
       "      <th></th>\n",
       "      <th>Name</th>\n",
       "      <th>geometry</th>\n",
       "    </tr>\n",
       "  </thead>\n",
       "  <tbody>\n",
       "    <tr>\n",
       "      <th>0</th>\n",
       "      <td>BARQUILLO (MEF03-101296)</td>\n",
       "      <td>POINT Z (-72.97009 -41.56678 0.00000)</td>\n",
       "    </tr>\n",
       "    <tr>\n",
       "      <th>1</th>\n",
       "      <td>BOLADOS (MEF04-110454)</td>\n",
       "      <td>POINT Z (-74.18728 -44.34708 0.00000)</td>\n",
       "    </tr>\n",
       "    <tr>\n",
       "      <th>2</th>\n",
       "      <td>CONCOTO (EA48 - 110466)</td>\n",
       "      <td>POINT Z (-73.80610 -44.16267 0.00000)</td>\n",
       "    </tr>\n",
       "    <tr>\n",
       "      <th>3</th>\n",
       "      <td>CANAL PEREZ NORTE (EA41 - 110523)</td>\n",
       "      <td>POINT Z (-73.84893 -44.14898 0.00000)</td>\n",
       "    </tr>\n",
       "    <tr>\n",
       "      <th>4</th>\n",
       "      <td>ELENA (EA40 - 110510)</td>\n",
       "      <td>POINT Z (-73.81244 -44.25456 0.00000)</td>\n",
       "    </tr>\n",
       "  </tbody>\n",
       "</table>\n",
       "</div>"
      ],
      "text/plain": [
       "                                Name                               geometry\n",
       "0           BARQUILLO (MEF03-101296)  POINT Z (-72.97009 -41.56678 0.00000)\n",
       "1             BOLADOS (MEF04-110454)  POINT Z (-74.18728 -44.34708 0.00000)\n",
       "2            CONCOTO (EA48 - 110466)  POINT Z (-73.80610 -44.16267 0.00000)\n",
       "3  CANAL PEREZ NORTE (EA41 - 110523)  POINT Z (-73.84893 -44.14898 0.00000)\n",
       "4              ELENA (EA40 - 110510)  POINT Z (-73.81244 -44.25456 0.00000)"
      ]
     },
     "execution_count": 5,
     "metadata": {},
     "output_type": "execute_result"
    }
   ],
   "source": [
    "import geopandas as gpd\n",
    "\n",
    "data = gpd.read_file('data_center.geojson').to_crs(4326)\n",
    "data.head()"
   ]
  },
  {
   "cell_type": "code",
   "execution_count": 18,
   "metadata": {},
   "outputs": [
    {
     "data": {
      "text/html": [
       "\n",
       "            <style>\n",
       "                .geemap-dark {\n",
       "                    --jp-widgets-color: white;\n",
       "                    --jp-widgets-label-color: white;\n",
       "                    --jp-ui-font-color1: white;\n",
       "                    --jp-layout-color2: #454545;\n",
       "                    background-color: #383838;\n",
       "                }\n",
       "\n",
       "                .geemap-dark .jupyter-button {\n",
       "                    --jp-layout-color3: #383838;\n",
       "                }\n",
       "\n",
       "                .geemap-colab {\n",
       "                    background-color: var(--colab-primary-surface-color, white);\n",
       "                }\n",
       "\n",
       "                .geemap-colab .jupyter-button {\n",
       "                    --jp-layout-color3: var(--colab-primary-surface-color, white);\n",
       "                }\n",
       "            </style>\n",
       "            "
      ],
      "text/plain": [
       "<IPython.core.display.HTML object>"
      ]
     },
     "metadata": {},
     "output_type": "display_data"
    },
    {
     "data": {
      "text/html": [
       "<div>\n",
       "<style scoped>\n",
       "    .dataframe tbody tr th:only-of-type {\n",
       "        vertical-align: middle;\n",
       "    }\n",
       "\n",
       "    .dataframe tbody tr th {\n",
       "        vertical-align: top;\n",
       "    }\n",
       "\n",
       "    .dataframe thead th {\n",
       "        text-align: right;\n",
       "    }\n",
       "</style>\n",
       "<table border=\"1\" class=\"dataframe\">\n",
       "  <thead>\n",
       "    <tr style=\"text-align: right;\">\n",
       "      <th></th>\n",
       "      <th>Name</th>\n",
       "      <th>geometry</th>\n",
       "    </tr>\n",
       "  </thead>\n",
       "  <tbody>\n",
       "    <tr>\n",
       "      <th>29</th>\n",
       "      <td>RODRIGUEZ (EA15-110823)</td>\n",
       "      <td>POINT Z (-73.50121 -45.37232 0.00000)</td>\n",
       "    </tr>\n",
       "  </tbody>\n",
       "</table>\n",
       "</div>"
      ],
      "text/plain": [
       "                       Name                               geometry\n",
       "29  RODRIGUEZ (EA15-110823)  POINT Z (-73.50121 -45.37232 0.00000)"
      ]
     },
     "execution_count": 18,
     "metadata": {},
     "output_type": "execute_result"
    }
   ],
   "source": [
    "data[data['Name'] == 'RODRIGUEZ (EA15-110823)']"
   ]
  },
  {
   "cell_type": "code",
   "execution_count": 7,
   "metadata": {},
   "outputs": [
    {
     "name": "stderr",
     "output_type": "stream",
     "text": [
      "C:\\Users\\jacmo\\AppData\\Local\\Temp\\ipykernel_15144\\1354604125.py:4: UserWarning: Geometry is in a geographic CRS. Results from 'buffer' are likely incorrect. Use 'GeoSeries.to_crs()' to re-project geometries to a projected CRS before this operation.\n",
      "\n",
      "  aoi = gpd.GeoSeries(llaguepe['geometry'].buffer(0.03)).to_crs(4326).to_json()\n"
     ]
    }
   ],
   "source": [
    "import json\n",
    "\n",
    "llaguepe = data[data['Name'] == 'RODRIGUEZ (EA15-110823)']\n",
    "aoi = gpd.GeoSeries(llaguepe['geometry'].buffer(0.03)).to_crs(4326).to_json()\n",
    "aoi_bbox = ee.Geometry.Polygon(json.loads(aoi)['features'][0]['geometry']['coordinates'], 'EPSG:4326')\n"
   ]
  },
  {
   "cell_type": "code",
   "execution_count": 8,
   "metadata": {},
   "outputs": [],
   "source": [
    "import shapely \n",
    "\n",
    "def apply_scale_factors(image):\n",
    "\n",
    "    image = image.clip(aoi_bbox)\n",
    "    optical_bands = image.select('B.').multiply(2.75e-05).add(-0.2)\n",
    "    return image.addBands(optical_bands, None, True)\n",
    "\n",
    "def add_NDVI_NDBI(image):\n",
    "    ndvi = image.normalizedDifference(['SR_B4', 'SR_B3']).rename('NDVI')\n",
    "    ndbi = image.normalizedDifference(['SR_B7', 'SR_B4']).rename('NDBI')\n",
    "    return image.addBands(ndvi, None, True)\\\n",
    "                .addBands(ndbi, None, True)"
   ]
  },
  {
   "cell_type": "code",
   "execution_count": 9,
   "metadata": {},
   "outputs": [
    {
     "name": "stderr",
     "output_type": "stream",
     "text": [
      "C:\\Users\\jacmo\\AppData\\Local\\Temp\\ipykernel_15144\\3732804932.py:3: UserWarning: Geometry is in a geographic CRS. Results from 'buffer' are likely incorrect. Use 'GeoSeries.to_crs()' to re-project geometries to a projected CRS before this operation.\n",
      "\n",
      "  aoi = gpd.GeoSeries(llaguepe['geometry'].buffer(0.1)).to_crs(4326).to_json()\n"
     ]
    }
   ],
   "source": [
    "import json \n",
    "\n",
    "aoi = gpd.GeoSeries(llaguepe['geometry'].buffer(0.1)).to_crs(4326).to_json()\n",
    "aoi_bbox = ee.Geometry.Polygon(json.loads(aoi)['features'][0]['geometry']['coordinates'], 'EPSG:4326')"
   ]
  },
  {
   "cell_type": "code",
   "execution_count": 101,
   "metadata": {},
   "outputs": [
    {
     "data": {
      "text/html": [
       "\n",
       "            <style>\n",
       "                .geemap-dark {\n",
       "                    --jp-widgets-color: white;\n",
       "                    --jp-widgets-label-color: white;\n",
       "                    --jp-ui-font-color1: white;\n",
       "                    --jp-layout-color2: #454545;\n",
       "                    background-color: #383838;\n",
       "                }\n",
       "\n",
       "                .geemap-dark .jupyter-button {\n",
       "                    --jp-layout-color3: #383838;\n",
       "                }\n",
       "\n",
       "                .geemap-colab {\n",
       "                    background-color: var(--colab-primary-surface-color, white);\n",
       "                }\n",
       "\n",
       "                .geemap-colab .jupyter-button {\n",
       "                    --jp-layout-color3: var(--colab-primary-surface-color, white);\n",
       "                }\n",
       "            </style>\n",
       "            "
      ],
      "text/plain": [
       "<IPython.core.display.HTML object>"
      ]
     },
     "metadata": {},
     "output_type": "display_data"
    },
    {
     "name": "stdout",
     "output_type": "stream",
     "text": [
      "Se obtuvieron 4 imágenes\n"
     ]
    }
   ],
   "source": [
    "def getImage(aoi, dates, clouds=10, mosaic=False):\n",
    "    collection = ee.ImageCollection('COPERNICUS/S2_SR').filterBounds(aoi).filterDate(dates[0], dates[1])\n",
    "    collection = collection.filter(ee.Filter.lte('CLOUDY_PIXEL_PERCENTAGE', clouds))\n",
    "    collection = collection.map(preprocess)\n",
    "    collection = collection.sort('system:time_start', False)\n",
    "    images = collection.aggregate_array('system:id').getInfo()\n",
    "    print(f'Se obtuvieron {len(images)} imágenes')\n",
    "    return collection, images\n",
    "\n",
    "def preprocess(image):\n",
    "\n",
    "    ndvi = image.normalizedDifference(['B8', 'B4']).rename('NDVI')\n",
    "    optical_bands = image.select('B.').multiply(0.0001)\n",
    "    return image.addBands(ndvi).addBands(optical_bands, None, True)\n",
    "\n",
    "\n",
    "dates = ['2023-12-11', '2024-12-12']\n",
    "collection, images = getImage(aoi_bbox, dates, clouds=1, mosaic=True)"
   ]
  },
  {
   "cell_type": "code",
   "execution_count": 102,
   "metadata": {},
   "outputs": [
    {
     "data": {
      "text/html": [
       "\n",
       "            <style>\n",
       "                .geemap-dark {\n",
       "                    --jp-widgets-color: white;\n",
       "                    --jp-widgets-label-color: white;\n",
       "                    --jp-ui-font-color1: white;\n",
       "                    --jp-layout-color2: #454545;\n",
       "                    background-color: #383838;\n",
       "                }\n",
       "\n",
       "                .geemap-dark .jupyter-button {\n",
       "                    --jp-layout-color3: #383838;\n",
       "                }\n",
       "\n",
       "                .geemap-colab {\n",
       "                    background-color: var(--colab-primary-surface-color, white);\n",
       "                }\n",
       "\n",
       "                .geemap-colab .jupyter-button {\n",
       "                    --jp-layout-color3: var(--colab-primary-surface-color, white);\n",
       "                }\n",
       "            </style>\n",
       "            "
      ],
      "text/plain": [
       "<IPython.core.display.HTML object>"
      ]
     },
     "metadata": {},
     "output_type": "display_data"
    }
   ],
   "source": [
    "# image = ee.Image(images[0])\n",
    "image = collection.median()\n",
    "image = image.clip(aoi_bbox)"
   ]
  },
  {
   "cell_type": "code",
   "execution_count": 104,
   "metadata": {},
   "outputs": [
    {
     "data": {
      "text/html": [
       "\n",
       "            <style>\n",
       "                .geemap-dark {\n",
       "                    --jp-widgets-color: white;\n",
       "                    --jp-widgets-label-color: white;\n",
       "                    --jp-ui-font-color1: white;\n",
       "                    --jp-layout-color2: #454545;\n",
       "                    background-color: #383838;\n",
       "                }\n",
       "\n",
       "                .geemap-dark .jupyter-button {\n",
       "                    --jp-layout-color3: #383838;\n",
       "                }\n",
       "\n",
       "                .geemap-colab {\n",
       "                    background-color: var(--colab-primary-surface-color, white);\n",
       "                }\n",
       "\n",
       "                .geemap-colab .jupyter-button {\n",
       "                    --jp-layout-color3: var(--colab-primary-surface-color, white);\n",
       "                }\n",
       "            </style>\n",
       "            "
      ],
      "text/plain": [
       "<IPython.core.display.HTML object>"
      ]
     },
     "metadata": {},
     "output_type": "display_data"
    },
    {
     "data": {
      "application/vnd.jupyter.widget-view+json": {
       "model_id": "2bcc7d6bb05a4da6bb1e7deb5102cf7a",
       "version_major": 2,
       "version_minor": 0
      },
      "text/plain": [
       "Map(center=[-45.37232, -73.50121], controls=(WidgetControl(options=['position', 'transparent_bg'], widget=Sear…"
      ]
     },
     "execution_count": 104,
     "metadata": {},
     "output_type": "execute_result"
    }
   ],
   "source": [
    "import geemap\n",
    "\n",
    "# -73.50121 -45.37232\n",
    "Map = geemap.Map(center=[-45.37232, -73.50121], zoom=16)\n",
    "Map.addLayer(aoi_bbox)\n",
    "\n",
    "\n",
    "# ndwi = image.select(['B3'])\n",
    "# ndwiViz = {'palette': ['00FFFF', '0000FF']}\n",
    "# Map.addLayer(ndwi, ndwiViz, 'NDWI', True)\n",
    "\n",
    "\n",
    "# imageRGB = image.visualize(**{'bands': ['B2', 'B3', 'B4'],'min':0, 'max': 0.5})\n",
    "imageRGB = image.visualize(**{'bands': ['TCI_R', 'TCI_G', 'TCI_B'],'min':0, 'max': 100})\n",
    "Map.addLayer(imageRGB, {}, 'imageRGB', True)\n",
    "\n",
    "\n",
    "Map"
   ]
  },
  {
   "cell_type": "code",
   "execution_count": 73,
   "metadata": {},
   "outputs": [
    {
     "data": {
      "text/html": [
       "\n",
       "            <style>\n",
       "                .geemap-dark {\n",
       "                    --jp-widgets-color: white;\n",
       "                    --jp-widgets-label-color: white;\n",
       "                    --jp-ui-font-color1: white;\n",
       "                    --jp-layout-color2: #454545;\n",
       "                    background-color: #383838;\n",
       "                }\n",
       "\n",
       "                .geemap-dark .jupyter-button {\n",
       "                    --jp-layout-color3: #383838;\n",
       "                }\n",
       "\n",
       "                .geemap-colab {\n",
       "                    background-color: var(--colab-primary-surface-color, white);\n",
       "                }\n",
       "\n",
       "                .geemap-colab .jupyter-button {\n",
       "                    --jp-layout-color3: var(--colab-primary-surface-color, white);\n",
       "                }\n",
       "            </style>\n",
       "            "
      ],
      "text/plain": [
       "<IPython.core.display.HTML object>"
      ]
     },
     "metadata": {},
     "output_type": "display_data"
    }
   ],
   "source": [
    "import matplotlib.pyplot as plt\n",
    "import contextily as ctx\n",
    "import numpy as np\n",
    "import geemap\n",
    "import pandas as pd\n",
    "import geopandas as gpd\n",
    "import json\n",
    "from scipy.interpolate import griddata\n",
    "from scipy.spatial import Voronoi, voronoi_plot_2d\n",
    "from mpl_toolkits.axes_grid1.axes_divider import make_axes_locatable\n",
    "from shapely.geometry import Point, Polygon\n",
    "import rasterio\n",
    "from rasterio.plot import show, show_hist\n",
    "# from osgeo import gdal\n",
    "import seaborn as sns\n",
    "import rioxarray\n",
    "from sklearn.linear_model import LinearRegression\n",
    "from pysal.model import spreg\n",
    "from sklearn.metrics import accuracy_score\n",
    "from sklearn.metrics import mean_absolute_error\n",
    "import pysal as ps\n",
    "from libpysal import weights\n",
    "import esda\n",
    "import warnings\n",
    "from libpysal.weights.raster import da2WSP\n",
    "from splot.esda import moran_scatterplot, plot_local_autocorrelation\n",
    "\n",
    "warnings.filterwarnings('ignore')"
   ]
  },
  {
   "cell_type": "code",
   "execution_count": 78,
   "metadata": {},
   "outputs": [
    {
     "data": {
      "text/html": [
       "\n",
       "            <style>\n",
       "                .geemap-dark {\n",
       "                    --jp-widgets-color: white;\n",
       "                    --jp-widgets-label-color: white;\n",
       "                    --jp-ui-font-color1: white;\n",
       "                    --jp-layout-color2: #454545;\n",
       "                    background-color: #383838;\n",
       "                }\n",
       "\n",
       "                .geemap-dark .jupyter-button {\n",
       "                    --jp-layout-color3: #383838;\n",
       "                }\n",
       "\n",
       "                .geemap-colab {\n",
       "                    background-color: var(--colab-primary-surface-color, white);\n",
       "                }\n",
       "\n",
       "                .geemap-colab .jupyter-button {\n",
       "                    --jp-layout-color3: var(--colab-primary-surface-color, white);\n",
       "                }\n",
       "            </style>\n",
       "            "
      ],
      "text/plain": [
       "<IPython.core.display.HTML object>"
      ]
     },
     "metadata": {},
     "output_type": "display_data"
    }
   ],
   "source": [
    "fecha_inicio_0 = '2018-01-01'\n",
    "fecha_final_0 = '2022-02-28'\n",
    "aoi = aoi_bbox"
   ]
  },
  {
   "cell_type": "code",
   "execution_count": 79,
   "metadata": {},
   "outputs": [
    {
     "data": {
      "text/html": [
       "\n",
       "            <style>\n",
       "                .geemap-dark {\n",
       "                    --jp-widgets-color: white;\n",
       "                    --jp-widgets-label-color: white;\n",
       "                    --jp-ui-font-color1: white;\n",
       "                    --jp-layout-color2: #454545;\n",
       "                    background-color: #383838;\n",
       "                }\n",
       "\n",
       "                .geemap-dark .jupyter-button {\n",
       "                    --jp-layout-color3: #383838;\n",
       "                }\n",
       "\n",
       "                .geemap-colab {\n",
       "                    background-color: var(--colab-primary-surface-color, white);\n",
       "                }\n",
       "\n",
       "                .geemap-colab .jupyter-button {\n",
       "                    --jp-layout-color3: var(--colab-primary-surface-color, white);\n",
       "                }\n",
       "            </style>\n",
       "            "
      ],
      "text/plain": [
       "<IPython.core.display.HTML object>"
      ]
     },
     "metadata": {},
     "output_type": "display_data"
    }
   ],
   "source": [
    "# Función que retorna la colección de imágenes de MODIS\n",
    "def get_modis_collection(startDate, endDate):\n",
    "    modis_collection = ee.ImageCollection('NASA/OCEANDATA/MODIS-Aqua/L3SMI')\\\n",
    "    .filterDate(startDate, endDate)\\\n",
    "    .select(\"chlor_a\")\\\n",
    "\n",
    "    return modis_collection\n",
    "\n",
    "# Función que retorna las fechas de toda la colección\n",
    "def get_modis_dates(modis_collection):\n",
    "    dates = modis_collection.aggregate_array('system:time_start').getInfo()\n",
    "    dates = [pd.to_datetime(date, unit='ms') for date in dates]\n",
    "    dates = [date.strftime('%Y-%m-%d') for date in dates]\n",
    "\n",
    "    return dates\n",
    "\n",
    "def get_sentinel2_collection(startDate, endDate, aoi):\n",
    "    sentinel2_collection = ee.ImageCollection('COPERNICUS/S2_SR')\\\n",
    "    .filterDate(startDate, endDate)\\\n",
    "    .filterBounds(aoi)\n",
    "\n",
    "    return sentinel2_collection"
   ]
  },
  {
   "cell_type": "code",
   "execution_count": 80,
   "metadata": {},
   "outputs": [
    {
     "data": {
      "text/html": [
       "\n",
       "            <style>\n",
       "                .geemap-dark {\n",
       "                    --jp-widgets-color: white;\n",
       "                    --jp-widgets-label-color: white;\n",
       "                    --jp-ui-font-color1: white;\n",
       "                    --jp-layout-color2: #454545;\n",
       "                    background-color: #383838;\n",
       "                }\n",
       "\n",
       "                .geemap-dark .jupyter-button {\n",
       "                    --jp-layout-color3: #383838;\n",
       "                }\n",
       "\n",
       "                .geemap-colab {\n",
       "                    background-color: var(--colab-primary-surface-color, white);\n",
       "                }\n",
       "\n",
       "                .geemap-colab .jupyter-button {\n",
       "                    --jp-layout-color3: var(--colab-primary-surface-color, white);\n",
       "                }\n",
       "            </style>\n",
       "            "
      ],
      "text/plain": [
       "<IPython.core.display.HTML object>"
      ]
     },
     "metadata": {},
     "output_type": "display_data"
    }
   ],
   "source": [
    "# Obtenemos la colección de imágenes de MODIS y verificamos las fechas incluidas.\n",
    "\n",
    "test_modis_collection = get_modis_collection(fecha_inicio_0, fecha_final_0)\n",
    "test_modis_dates = get_modis_dates(test_modis_collection)\n",
    "\n",
    "# test_modis_dates"
   ]
  },
  {
   "cell_type": "code",
   "execution_count": 81,
   "metadata": {},
   "outputs": [
    {
     "data": {
      "text/html": [
       "\n",
       "            <style>\n",
       "                .geemap-dark {\n",
       "                    --jp-widgets-color: white;\n",
       "                    --jp-widgets-label-color: white;\n",
       "                    --jp-ui-font-color1: white;\n",
       "                    --jp-layout-color2: #454545;\n",
       "                    background-color: #383838;\n",
       "                }\n",
       "\n",
       "                .geemap-dark .jupyter-button {\n",
       "                    --jp-layout-color3: #383838;\n",
       "                }\n",
       "\n",
       "                .geemap-colab {\n",
       "                    background-color: var(--colab-primary-surface-color, white);\n",
       "                }\n",
       "\n",
       "                .geemap-colab .jupyter-button {\n",
       "                    --jp-layout-color3: var(--colab-primary-surface-color, white);\n",
       "                }\n",
       "            </style>\n",
       "            "
      ],
      "text/plain": [
       "<IPython.core.display.HTML object>"
      ]
     },
     "metadata": {},
     "output_type": "display_data"
    }
   ],
   "source": [
    "# Obtenemos la colección de imágenes de Sentinel 2 y verificamos las fechas incluidas. \n",
    "# Filtramos para obtener sólo imagenes de excelente calidad en cuanto a presencia de nubes.\n",
    "\n",
    "sentinel2_collection = get_sentinel2_collection(fecha_inicio_0, fecha_final_0, aoi).filterMetadata('CLOUDY_PIXEL_PERCENTAGE', 'less_than', 0.2)\n",
    "test_sentinel_dates = get_modis_dates(sentinel2_collection)\n",
    "\n",
    "# test_sentinel_dates"
   ]
  },
  {
   "cell_type": "code",
   "execution_count": 82,
   "metadata": {},
   "outputs": [
    {
     "data": {
      "text/html": [
       "\n",
       "            <style>\n",
       "                .geemap-dark {\n",
       "                    --jp-widgets-color: white;\n",
       "                    --jp-widgets-label-color: white;\n",
       "                    --jp-ui-font-color1: white;\n",
       "                    --jp-layout-color2: #454545;\n",
       "                    background-color: #383838;\n",
       "                }\n",
       "\n",
       "                .geemap-dark .jupyter-button {\n",
       "                    --jp-layout-color3: #383838;\n",
       "                }\n",
       "\n",
       "                .geemap-colab {\n",
       "                    background-color: var(--colab-primary-surface-color, white);\n",
       "                }\n",
       "\n",
       "                .geemap-colab .jupyter-button {\n",
       "                    --jp-layout-color3: var(--colab-primary-surface-color, white);\n",
       "                }\n",
       "            </style>\n",
       "            "
      ],
      "text/plain": [
       "<IPython.core.display.HTML object>"
      ]
     },
     "metadata": {},
     "output_type": "display_data"
    }
   ],
   "source": [
    "'''\n",
    "Se calculan las fechas para las que existen imagenes\n",
    "disponibles en ambos satélites. \n",
    "'''\n",
    "\n",
    "fechas = set(test_modis_dates) & set(test_sentinel_dates)\n",
    "\n",
    "# fechas"
   ]
  },
  {
   "cell_type": "code",
   "execution_count": 83,
   "metadata": {},
   "outputs": [
    {
     "data": {
      "text/html": [
       "\n",
       "            <style>\n",
       "                .geemap-dark {\n",
       "                    --jp-widgets-color: white;\n",
       "                    --jp-widgets-label-color: white;\n",
       "                    --jp-ui-font-color1: white;\n",
       "                    --jp-layout-color2: #454545;\n",
       "                    background-color: #383838;\n",
       "                }\n",
       "\n",
       "                .geemap-dark .jupyter-button {\n",
       "                    --jp-layout-color3: #383838;\n",
       "                }\n",
       "\n",
       "                .geemap-colab {\n",
       "                    background-color: var(--colab-primary-surface-color, white);\n",
       "                }\n",
       "\n",
       "                .geemap-colab .jupyter-button {\n",
       "                    --jp-layout-color3: var(--colab-primary-surface-color, white);\n",
       "                }\n",
       "            </style>\n",
       "            "
      ],
      "text/plain": [
       "<IPython.core.display.HTML object>"
      ]
     },
     "metadata": {},
     "output_type": "display_data"
    },
    {
     "name": "stdout",
     "output_type": "stream",
     "text": [
      "Generating URL ...\n",
      "Downloading data from https://earthengine.googleapis.com/v1/projects/cibravo2/thumbnails/346765cc4167d80b453d7f6f406e6129-b587f28eee325631771a152d797b5e48:getPixels\n",
      "Please wait ...\n",
      "Data downloaded to c:\\Users\\jacmo\\OneDrive - uc.cl\\Documentos\\cosas de la u\\17. XVII\\4. CDG\\Proyecto\\MODIS\\2019-08-19.tif\n",
      "Generating URL ...\n",
      "Downloading data from https://earthengine.googleapis.com/v1/projects/cibravo2/thumbnails/ffbf212c308de2612e380b5205019564-3ca30b936295a79f529e5c7392170a63:getPixels\n",
      "Please wait ...\n",
      "Data downloaded to c:\\Users\\jacmo\\OneDrive - uc.cl\\Documentos\\cosas de la u\\17. XVII\\4. CDG\\Proyecto\\MODIS\\2019-02-03.tif\n",
      "Generating URL ...\n",
      "Downloading data from https://earthengine.googleapis.com/v1/projects/cibravo2/thumbnails/2ae4830ff3bace7ddcc875aa918c5bd7-ac4d3e638fa5c8a841c12d004589c306:getPixels\n",
      "Please wait ...\n",
      "Data downloaded to c:\\Users\\jacmo\\OneDrive - uc.cl\\Documentos\\cosas de la u\\17. XVII\\4. CDG\\Proyecto\\MODIS\\2020-04-08.tif\n",
      "Generating URL ...\n",
      "Downloading data from https://earthengine.googleapis.com/v1/projects/cibravo2/thumbnails/c2bdc7f8c97870e25dbecb8447323ada-a97d64e0aa989073fb28a740597a78a6:getPixels\n",
      "Please wait ...\n",
      "Data downloaded to c:\\Users\\jacmo\\OneDrive - uc.cl\\Documentos\\cosas de la u\\17. XVII\\4. CDG\\Proyecto\\MODIS\\2020-11-19.tif\n",
      "Generating URL ...\n",
      "Downloading data from https://earthengine.googleapis.com/v1/projects/cibravo2/thumbnails/6e05dad6aeaabb566847ffffa2e916b5-0956c3ba5f77a0732d580fbed8f9bac1:getPixels\n",
      "Please wait ...\n",
      "Data downloaded to c:\\Users\\jacmo\\OneDrive - uc.cl\\Documentos\\cosas de la u\\17. XVII\\4. CDG\\Proyecto\\MODIS\\2022-02-22.tif\n",
      "Generating URL ...\n",
      "Downloading data from https://earthengine.googleapis.com/v1/projects/cibravo2/thumbnails/734c894dda581b902a1de266ea9933e2-d978712ddb2cb39b4063a13f899c3bfe:getPixels\n",
      "Please wait ...\n",
      "Data downloaded to c:\\Users\\jacmo\\OneDrive - uc.cl\\Documentos\\cosas de la u\\17. XVII\\4. CDG\\Proyecto\\MODIS\\2021-12-09.tif\n",
      "Generating URL ...\n",
      "Downloading data from https://earthengine.googleapis.com/v1/projects/cibravo2/thumbnails/7a5549a3274d3fba2daa3fceb957109d-1970cc532d5a436ad668e7c9b7c0c7d0:getPixels\n",
      "Please wait ...\n",
      "Data downloaded to c:\\Users\\jacmo\\OneDrive - uc.cl\\Documentos\\cosas de la u\\17. XVII\\4. CDG\\Proyecto\\MODIS\\2020-03-01.tif\n",
      "Generating URL ...\n",
      "Downloading data from https://earthengine.googleapis.com/v1/projects/cibravo2/thumbnails/fc710273cf79d0761e6fc126dcaf919e-eb1b2458d828f74aed7235389e0290f7:getPixels\n",
      "Please wait ...\n",
      "Data downloaded to c:\\Users\\jacmo\\OneDrive - uc.cl\\Documentos\\cosas de la u\\17. XVII\\4. CDG\\Proyecto\\MODIS\\2021-02-07.tif\n",
      "Generating URL ...\n",
      "Downloading data from https://earthengine.googleapis.com/v1/projects/cibravo2/thumbnails/32d6e0661ba96ec70df1288a15e55919-7a7386cd717d3d606f1a5d7db5e3086e:getPixels\n",
      "Please wait ...\n",
      "Data downloaded to c:\\Users\\jacmo\\OneDrive - uc.cl\\Documentos\\cosas de la u\\17. XVII\\4. CDG\\Proyecto\\MODIS\\2022-01-28.tif\n",
      "Generating URL ...\n",
      "Downloading data from https://earthengine.googleapis.com/v1/projects/cibravo2/thumbnails/cbdabe95113e6b06965cd82865f429d7-11695f40f84d14daaa1b8d28dba56932:getPixels\n",
      "Please wait ...\n",
      "Data downloaded to c:\\Users\\jacmo\\OneDrive - uc.cl\\Documentos\\cosas de la u\\17. XVII\\4. CDG\\Proyecto\\MODIS\\2021-03-14.tif\n",
      "Generating URL ...\n",
      "Downloading data from https://earthengine.googleapis.com/v1/projects/cibravo2/thumbnails/4da8c909cb150244df80a65738ea2ac0-7410df3088bf3d50af788c03247b5fca:getPixels\n",
      "Please wait ...\n",
      "Data downloaded to c:\\Users\\jacmo\\OneDrive - uc.cl\\Documentos\\cosas de la u\\17. XVII\\4. CDG\\Proyecto\\MODIS\\2020-02-20.tif\n",
      "Generating URL ...\n",
      "Downloading data from https://earthengine.googleapis.com/v1/projects/cibravo2/thumbnails/bf7e7e10d288491485446d84fe9ac227-1a991ad54c6df9345c864876995eacf3:getPixels\n",
      "Please wait ...\n",
      "Data downloaded to c:\\Users\\jacmo\\OneDrive - uc.cl\\Documentos\\cosas de la u\\17. XVII\\4. CDG\\Proyecto\\MODIS\\2021-10-30.tif\n",
      "Generating URL ...\n",
      "Downloading data from https://earthengine.googleapis.com/v1/projects/cibravo2/thumbnails/c52718bf1bdf2943aad31e7fb6929b98-444fa9575c0c9ab3b3d62c0d9cdd1d62:getPixels\n",
      "Please wait ...\n",
      "Data downloaded to c:\\Users\\jacmo\\OneDrive - uc.cl\\Documentos\\cosas de la u\\17. XVII\\4. CDG\\Proyecto\\MODIS\\2019-03-10.tif\n"
     ]
    }
   ],
   "source": [
    "'''\n",
    "NO RECOMENDAMOS EJECUTAR ESTA CELDA.\n",
    "Se obtiene cada una de las imágenes para el satélite MODIS-AQUA.\n",
    "Se almacenan localmente en disco para luego poder ser poligonizadas a través de GDAL.\n",
    "'''\n",
    "\n",
    "for fecha in fechas:\n",
    "    dayOfInterest = ee.Date(fecha)\n",
    "    # Obtenemos la imagen del satélite MODIS para ese día\n",
    "\n",
    "    modisCollection = ee.ImageCollection('NASA/OCEANDATA/MODIS-Aqua/L3SMI')\\\n",
    "    .filterDate(dayOfInterest, dayOfInterest.advance(1, 'day'))\\\n",
    "    .filterBounds(aoi)\\\n",
    "    .select(\"chlor_a\").first()\n",
    "\n",
    "    geemap.ee_export_image(modisCollection, scale=4616, filename=f'MODIS/{fecha}.tif', region=aoi)  \n",
    "\n",
    "    \n",
    "    "
   ]
  },
  {
   "cell_type": "code",
   "execution_count": 98,
   "metadata": {},
   "outputs": [
    {
     "data": {
      "text/html": [
       "\n",
       "            <style>\n",
       "                .geemap-dark {\n",
       "                    --jp-widgets-color: white;\n",
       "                    --jp-widgets-label-color: white;\n",
       "                    --jp-ui-font-color1: white;\n",
       "                    --jp-layout-color2: #454545;\n",
       "                    background-color: #383838;\n",
       "                }\n",
       "\n",
       "                .geemap-dark .jupyter-button {\n",
       "                    --jp-layout-color3: #383838;\n",
       "                }\n",
       "\n",
       "                .geemap-colab {\n",
       "                    background-color: var(--colab-primary-surface-color, white);\n",
       "                }\n",
       "\n",
       "                .geemap-colab .jupyter-button {\n",
       "                    --jp-layout-color3: var(--colab-primary-surface-color, white);\n",
       "                }\n",
       "            </style>\n",
       "            "
      ],
      "text/plain": [
       "<IPython.core.display.HTML object>"
      ]
     },
     "metadata": {},
     "output_type": "display_data"
    },
    {
     "ename": "EEException",
     "evalue": "Cannot convert a computed geometry to GeoJSON. Wrap a getInfo() call in json.dumps instead.",
     "output_type": "error",
     "traceback": [
      "\u001b[1;31m---------------------------------------------------------------------------\u001b[0m",
      "\u001b[1;31mEEException\u001b[0m                               Traceback (most recent call last)",
      "Input \u001b[1;32mIn [98]\u001b[0m, in \u001b[0;36m<cell line: 1>\u001b[1;34m()\u001b[0m\n\u001b[1;32m----> 1\u001b[0m \u001b[43maoi\u001b[49m\u001b[38;5;241;43m.\u001b[39;49m\u001b[43mtoGeoJSONString\u001b[49m\u001b[43m(\u001b[49m\u001b[43m)\u001b[49m\n",
      "File \u001b[1;32mc:\\Users\\jacmo\\.julia\\conda\\3\\lib\\site-packages\\ee\\geometry.py:633\u001b[0m, in \u001b[0;36mGeometry.toGeoJSONString\u001b[1;34m(self)\u001b[0m\n\u001b[0;32m    631\u001b[0m \u001b[38;5;250m\u001b[39m\u001b[38;5;124;03m\"\"\"Returns a GeoJSON string representation of the geometry.\"\"\"\u001b[39;00m\n\u001b[0;32m    632\u001b[0m \u001b[38;5;28;01mif\u001b[39;00m \u001b[38;5;28mself\u001b[39m\u001b[38;5;241m.\u001b[39mfunc:\n\u001b[1;32m--> 633\u001b[0m   \u001b[38;5;28;01mraise\u001b[39;00m ee_exception\u001b[38;5;241m.\u001b[39mEEException(\n\u001b[0;32m    634\u001b[0m       \u001b[38;5;124m'\u001b[39m\u001b[38;5;124mCannot convert a computed geometry to GeoJSON. \u001b[39m\u001b[38;5;124m'\u001b[39m\n\u001b[0;32m    635\u001b[0m       \u001b[38;5;124m'\u001b[39m\u001b[38;5;124mWrap a getInfo() call in json.dumps instead.\u001b[39m\u001b[38;5;124m'\u001b[39m\n\u001b[0;32m    636\u001b[0m   )\n\u001b[0;32m    637\u001b[0m \u001b[38;5;28;01mreturn\u001b[39;00m json\u001b[38;5;241m.\u001b[39mdumps(\u001b[38;5;28mself\u001b[39m\u001b[38;5;241m.\u001b[39mtoGeoJSON())\n",
      "\u001b[1;31mEEException\u001b[0m: Cannot convert a computed geometry to GeoJSON. Wrap a getInfo() call in json.dumps instead."
     ]
    }
   ],
   "source": [
    "aoi.toGeoJSONString()\n",
    "# gpd.GeoDataFrame([aoi.toGeoJSON])"
   ]
  },
  {
   "cell_type": "code",
   "execution_count": 84,
   "metadata": {},
   "outputs": [
    {
     "data": {
      "text/html": [
       "\n",
       "            <style>\n",
       "                .geemap-dark {\n",
       "                    --jp-widgets-color: white;\n",
       "                    --jp-widgets-label-color: white;\n",
       "                    --jp-ui-font-color1: white;\n",
       "                    --jp-layout-color2: #454545;\n",
       "                    background-color: #383838;\n",
       "                }\n",
       "\n",
       "                .geemap-dark .jupyter-button {\n",
       "                    --jp-layout-color3: #383838;\n",
       "                }\n",
       "\n",
       "                .geemap-colab {\n",
       "                    background-color: var(--colab-primary-surface-color, white);\n",
       "                }\n",
       "\n",
       "                .geemap-colab .jupyter-button {\n",
       "                    --jp-layout-color3: var(--colab-primary-surface-color, white);\n",
       "                }\n",
       "            </style>\n",
       "            "
      ],
      "text/plain": [
       "<IPython.core.display.HTML object>"
      ]
     },
     "metadata": {},
     "output_type": "display_data"
    }
   ],
   "source": [
    "# Enhanced vegetation index (EVI)\n",
    "\n",
    "def calculate_evi(collection_images):\n",
    " \n",
    "    evi_collection = collection_images.map(lambda image: image.expression(\n",
    "        '(2.5 * (NIR - RED)) / (NIR + 6 * RED - 7.5 * BLUE + 1)',\n",
    "        {\n",
    "            'NIR': image.select('B8'),\n",
    "            'RED': image.select('B4'),\n",
    "            'BLUE': image.select('B2')\n",
    "        }\n",
    "    ))\n",
    "\n",
    "    return evi_collection\n",
    "\n",
    "# Normalized Ratio Vegetation Index (NRVI)\n",
    "def calculate_nrvi(collection_images):\n",
    "    nrvi_collection = collection_images.map(lambda image: image.expression(\n",
    "        '(RED/NIR - 1) / (RED/NIR + 1)',\n",
    "        {\n",
    "            'NIR': image.select('B8'),\n",
    "            'RED': image.select('B4')\n",
    "        }\n",
    "    ))\n",
    "\n",
    "    return nrvi_collection\n",
    "\n",
    "# Normalized Difference Water Index (NDWI)\n",
    "def calculate_ndwi(collection_images):\n",
    "    ndwi_collection = collection_images.map(lambda image: image.expression(\n",
    "        '(GREEN - NIR) / (GREEN + NIR)',\n",
    "        {\n",
    "            'NIR': image.select('B8'),\n",
    "            'GREEN': image.select('B3')\n",
    "        }\n",
    "    ))\n",
    "\n",
    "    return ndwi_collection\n",
    "\n",
    "# Normalized Difference Water Index (NDWI2)   ndvi_2 es un typo\n",
    "def calculate_ndvi2(collection_images):\n",
    "    ndvi2_collection = collection_images.map(lambda image: image.expression(\n",
    "        '(NIR - SWIR2) / (NIR + SWIR2)',\n",
    "        {\n",
    "            'NIR': image.select('B8'),\n",
    "            'SWIR2': image.select('B12')\n",
    "        }\n",
    "    ))\n",
    "\n",
    "    return ndvi2_collection\n",
    "\n",
    "# Modified Normalized Difference Water Index (MNDWI)\n",
    "def calculate_mndwi(collection_images):\n",
    "    mndwi_collection = collection_images.map(lambda image: image.expression(\n",
    "        '(GREEN - SWIR2) / (GREEN + SWIR2)',\n",
    "        {\n",
    "            'GREEN': image.select('B3'),\n",
    "            'SWIR2': image.select('B12')\n",
    "        }\n",
    "    ))\n",
    "\n",
    "    return mndwi_collection\n",
    "\n",
    "# Green Normalized Difference Vegetation Index\n",
    "def calculate_gndvi(collection_images):\n",
    "    gndvi_collection = collection_images.map(lambda image: image.expression(\n",
    "        '(NIR - GREEN) / (NIR + GREEN)',\n",
    "        {\n",
    "            'NIR': image.select('B8'),\n",
    "            'GREEN': image.select('B3')\n",
    "        }\n",
    "    ))\n",
    "\n",
    "    return gndvi_collection\n",
    "\n",
    "# Normalized Difference Vegetation Index\n",
    "def calculate_ndvi(collection_images):\n",
    "    ndvi_collection = collection_images.map(lambda image: image.expression(\n",
    "        '(NIR - RED) / (NIR + RED)',\n",
    "        {\n",
    "            'NIR': image.select('B8'),\n",
    "            'RED': image.select('B4')\n",
    "        }\n",
    "    ))\n",
    "\n",
    "    return ndvi_collection\n",
    "\n",
    "# Indices de bandas\n",
    "\n",
    "def calculate_b3b1(collection_images):\n",
    "    b3b1_collection = collection_images.map(lambda image: image.expression(\n",
    "        'GREEN / AEROSOLS',\n",
    "        {\n",
    "            'GREEN': image.select('B3'),\n",
    "            'AEROSOLS': image.select('B1')\n",
    "        }\n",
    "    ))\n",
    "\n",
    "    return b3b1_collection\n",
    "\n",
    "\n",
    "def calculate_b3b2(collection_images):\n",
    "    b3b2_collection = collection_images.map(lambda image: image.expression(\n",
    "        'GREEN / BLUE',\n",
    "        {\n",
    "            'GREEN': image.select('B3'),\n",
    "            'BLUE': image.select('B2')\n",
    "        }\n",
    "    ))\n",
    "\n",
    "    return b3b2_collection\n",
    "\n",
    "def calculate_b3b4(collection_images):\n",
    "    b3b4_collection = collection_images.map(lambda image: image.expression(\n",
    "        'GREEN / RED',\n",
    "        {\n",
    "            'GREEN': image.select('B3'),\n",
    "            'RED': image.select('B4')\n",
    "        }\n",
    "    ))\n",
    "\n",
    "    return b3b4_collection\n",
    "\n",
    "def calculate_b5b4(collection_images):\n",
    "    b5b4_collection = collection_images.map(lambda image: image.expression(\n",
    "        'RED_EDGE_1 / RED',\n",
    "        {\n",
    "            'RED_EDGE_1': image.select('B5'),\n",
    "            'RED': image.select('B4')\n",
    "        }\n",
    "    ))\n",
    "\n",
    "    return b5b4_collection\n",
    "\n",
    "def calculate_b6b4(collection_images):\n",
    "    b6b4_collection = collection_images.map(lambda image: image.expression(\n",
    "        'RED_EDGE_2 / RED',\n",
    "        {\n",
    "            'RED_EDGE_2': image.select('B6'),\n",
    "            'RED': image.select('B4')\n",
    "        }\n",
    "    ))\n",
    "\n",
    "    return b6b4_collection\n",
    "\n",
    "def calculate_b7b4(collection_images):\n",
    "    b7b4_collection = collection_images.map(lambda image: image.expression(\n",
    "        'RED_EDGE_3 / RED',\n",
    "        {\n",
    "            'RED_EDGE_3': image.select('B7'),\n",
    "            'RED': image.select('B4')\n",
    "        }\n",
    "    ))\n",
    "\n",
    "    return b7b4_collection\n",
    "\n",
    "def calculate_b8ab4(collection_images):\n",
    "    b8ab4_collection = collection_images.map(lambda image: image.expression(\n",
    "        'NIR / RED',\n",
    "        {\n",
    "            'NIR': image.select('B8A'),\n",
    "            'RED': image.select('B4')\n",
    "        }\n",
    "    ))\n",
    "\n",
    "    return b8ab4_collection\n",
    "\n",
    "def calculate_b8b4(collection_images):\n",
    "    b8b4_collection = collection_images.map(lambda image: image.expression(\n",
    "        'NIR / RED',\n",
    "        {\n",
    "            'NIR': image.select('B8'),\n",
    "            'RED': image.select('B4')\n",
    "        }\n",
    "    ))\n",
    "\n",
    "    return b8b4_collection\n",
    "\n",
    "def calculate_oc2(collection_images):\n",
    "    oc2_collection = collection_images.map(lambda image: image.expression(\n",
    "        '10 ** (0.319 - 2.336 * R_2 + 0.879 * (R_2**2) - 0.135 * (R_2**3)) - 0.071',\n",
    "        {\n",
    "            'R_2': ee.Image(image.select('B2')).divide(image.select('B3')).log10()\n",
    "        }\n",
    "    ))\n",
    "    \n",
    "    return oc2_collection\n",
    "\n",
    "def calculate_oc4(collection_images):\n",
    "    oc4_collection = collection_images.map(lambda image: image.expression(\n",
    "        '10 ** (0.366 - 3.067 * R_4 + 1.930 * (R_4**2) + 0.649 * (R_4**3) - 1.532 * (R_4**4))',\n",
    "        {\n",
    "            'R_4': image.select(['B1', 'B2']).reduce(ee.Reducer.max()).divide(image.select('B3')).log10()\n",
    "        }\n",
    "    ))\n",
    "    \n",
    "    return oc4_collection"
   ]
  },
  {
   "cell_type": "code",
   "execution_count": 100,
   "metadata": {},
   "outputs": [
    {
     "data": {
      "text/html": [
       "\n",
       "            <style>\n",
       "                .geemap-dark {\n",
       "                    --jp-widgets-color: white;\n",
       "                    --jp-widgets-label-color: white;\n",
       "                    --jp-ui-font-color1: white;\n",
       "                    --jp-layout-color2: #454545;\n",
       "                    background-color: #383838;\n",
       "                }\n",
       "\n",
       "                .geemap-dark .jupyter-button {\n",
       "                    --jp-layout-color3: #383838;\n",
       "                }\n",
       "\n",
       "                .geemap-colab {\n",
       "                    background-color: var(--colab-primary-surface-color, white);\n",
       "                }\n",
       "\n",
       "                .geemap-colab .jupyter-button {\n",
       "                    --jp-layout-color3: var(--colab-primary-surface-color, white);\n",
       "                }\n",
       "            </style>\n",
       "            "
      ],
      "text/plain": [
       "<IPython.core.display.HTML object>"
      ]
     },
     "metadata": {},
     "output_type": "display_data"
    },
    {
     "name": "stdout",
     "output_type": "stream",
     "text": [
      "2019-08-19\n",
      "13 days remaining.\n",
      "2019-02-03\n",
      "12 days remaining.\n",
      "2020-04-08\n",
      "11 days remaining.\n",
      "2020-11-19\n",
      "10 days remaining.\n",
      "2022-02-22\n",
      "9 days remaining.\n",
      "2021-12-09\n",
      "8 days remaining.\n",
      "2020-03-01\n",
      "7 days remaining.\n",
      "2021-02-07\n",
      "6 days remaining.\n",
      "2022-01-28\n",
      "5 days remaining.\n",
      "2021-03-14\n",
      "4 days remaining.\n",
      "2020-02-20\n",
      "3 days remaining.\n",
      "2021-10-30\n",
      "2 days remaining.\n",
      "2019-03-10\n",
      "1 days remaining.\n"
     ]
    }
   ],
   "source": [
    "'''\n",
    "NO recomendamos correr esta celda. Su ejecución puede tardar más de 1 hora.\n",
    "En el archivo 'indices.csv' se encuentra el resultado de éstos cómputos.\n",
    "'''\n",
    "import os\n",
    "\n",
    "\n",
    "result_dict = {fecha: '' for fecha in fechas}\n",
    "count = 0\n",
    "for fecha in fechas:\n",
    "    print(fecha)    \n",
    "    print(f'{len(fechas) - count} days remaining.')\n",
    "    count+=1\n",
    "    dayOfInterest = ee.Date(fecha)\n",
    "\n",
    "    if os.path.isfile(f'MODIS/{fecha}.shp'):\n",
    "        modis = gpd.read_file(f'MODIS/{fecha}.shp')\n",
    "        \n",
    "        sentinel2_collection = ee.ImageCollection('COPERNICUS/S2_SR')\\\n",
    "        .filterDate(dayOfInterest, dayOfInterest.advance(1, 'day'))\\\n",
    "        .filterBounds(aoi)\n",
    "\n",
    "        evi = calculate_evi(sentinel2_collection).first()\n",
    "        nrvi = calculate_nrvi(sentinel2_collection).first()\n",
    "        ndwi = calculate_ndwi(sentinel2_collection).first()\n",
    "        gndvi = calculate_gndvi(sentinel2_collection).first()\n",
    "        mndwi = calculate_mndwi(sentinel2_collection).first() # 20m\n",
    "        ndvi2 = calculate_ndvi2(sentinel2_collection).first() # 20m\n",
    "        ndvi = calculate_ndvi(sentinel2_collection).first()\n",
    "        b3b1 = calculate_b3b1(sentinel2_collection).first() # 60m\n",
    "        b3b2 = calculate_b3b2(sentinel2_collection).first()\n",
    "        b3b4 = calculate_b3b4(sentinel2_collection).first()\n",
    "        b5b4 = calculate_b5b4(sentinel2_collection).first() # 20m.\n",
    "        b6b4 = calculate_b6b4(sentinel2_collection).first() # 20m. \n",
    "        b7b4 = calculate_b7b4(sentinel2_collection).first() # 20m.\n",
    "        b8ab4 = calculate_b8ab4(sentinel2_collection).first() # 20m.\n",
    "        b8b4 = calculate_b8b4(sentinel2_collection).first()\n",
    "        oc2 = calculate_oc2(sentinel2_collection).first()\n",
    "        oc4 = calculate_oc4(sentinel2_collection).first()\n",
    "\n",
    "        m_20 = {'mndwi': mndwi, 'ndvi2':ndvi2, 'b5b4': b5b4, 'b6b4': b6b4,\n",
    "                'b7b4': b7b4, 'b8ab4': b8ab4, 'b8b4': b8b4}\n",
    "        \n",
    "        m_10 = {'evi': evi, 'nrvi': nrvi, 'ndwi': ndwi, 'gndvi': gndvi,\n",
    "                'ndvi':ndvi, 'b3b2': b3b2, 'b3b4': b3b4, 'b8b4': b8b4,\n",
    "            'oc2': oc2}\n",
    "\n",
    "        m_60 = {'b3b1': b3b1, 'oc4': oc4}\n",
    "        \n",
    "\n",
    "        for metric in m_20.keys():\n",
    "            print(f'Calculating {metric}')        \n",
    "            geemap.ee_export_image(m_20[metric], filename='temp.tif', scale=20,region=aoi)\n",
    "            temp = rioxarray.open_rasterio('temp.tif')\n",
    "            temp = temp.rio.reproject(\"EPSG: 4326\")\n",
    "            # clip = temp.rio.clip([lagos.iloc[0,:].geometry])\n",
    "            clip = temp\n",
    "            metrics = []\n",
    "            for i in modis.index:\n",
    "                local_clip = clip.rio.clip([modis.iloc[i,:].geometry])\n",
    "                metrics.append(local_clip.values.mean())\n",
    "            to_append = pd.Series(metrics)\n",
    "            modis[metric] = metrics\n",
    "            temp.close()\n",
    "            \n",
    "        for metric in m_10.keys():\n",
    "            print(f'Calculating {metric}')\n",
    "            geemap.ee_export_image(m_10[metric], filename='temp.tif', scale=10,region=aoi)\n",
    "            temp = rioxarray.open_rasterio('temp.tif')\n",
    "            temp = temp.rio.reproject(\"EPSG: 4326\")\n",
    "            # clip = temp.rio.clip([lagos.iloc[0,:].geometry])\n",
    "            clip = temp\n",
    "            metrics = []\n",
    "            for i in modis.index:\n",
    "                local_clip = clip.rio.clip([modis.iloc[i,:].geometry])\n",
    "                metrics.append(local_clip.values.mean())\n",
    "            to_append = pd.Series(metrics)\n",
    "            modis[metric] = metrics\n",
    "            temp.close()\n",
    "            \n",
    "        for metric in m_60.keys():\n",
    "            print(f'Calculating {metric}')        \n",
    "            geemap.ee_export_image(m_60[metric], filename='temp.tif', scale=60,region=aoi)\n",
    "            temp = rioxarray.open_rasterio('temp.tif')\n",
    "            temp = temp.rio.reproject(\"EPSG: 4326\")\n",
    "            # clip = temp.rio.clip([lagos.iloc[0,:].geometry])\n",
    "            clip = temp\n",
    "            metrics = []\n",
    "            for i in modis.index:\n",
    "                local_clip = clip.rio.clip([modis.iloc[i,:].geometry])\n",
    "                metrics.append(local_clip.values.mean())\n",
    "            to_append = pd.Series(metrics)\n",
    "            modis[metric] = metrics\n",
    "            temp.close()\n",
    "            \n",
    "        modis['Fecha'] = fecha\n",
    "        result_dict[fecha] = modis   \n",
    "        "
   ]
  },
  {
   "cell_type": "code",
   "execution_count": null,
   "metadata": {},
   "outputs": [],
   "source": []
  }
 ],
 "metadata": {
  "kernelspec": {
   "display_name": "base",
   "language": "python",
   "name": "python3"
  },
  "language_info": {
   "codemirror_mode": {
    "name": "ipython",
    "version": 3
   },
   "file_extension": ".py",
   "mimetype": "text/x-python",
   "name": "python",
   "nbconvert_exporter": "python",
   "pygments_lexer": "ipython3",
   "version": "3.9.7"
  }
 },
 "nbformat": 4,
 "nbformat_minor": 2
}
