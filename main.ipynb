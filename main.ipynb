{
 "cells": [
  {
   "cell_type": "code",
   "execution_count": 1,
   "metadata": {},
   "outputs": [],
   "source": [
    "import json\n",
    "import geopandas as gpd\n",
    "import pandas as pd\n",
    "import ee\n",
    "\n",
    "\n",
    "ee.Authenticate()\n",
    "ee.Initialize(project='cibravo2')"
   ]
  },
  {
   "cell_type": "code",
   "execution_count": 180,
   "metadata": {},
   "outputs": [
    {
     "data": {
      "text/html": [
       "\n",
       "            <style>\n",
       "                .geemap-dark {\n",
       "                    --jp-widgets-color: white;\n",
       "                    --jp-widgets-label-color: white;\n",
       "                    --jp-ui-font-color1: white;\n",
       "                    --jp-layout-color2: #454545;\n",
       "                    background-color: #383838;\n",
       "                }\n",
       "\n",
       "                .geemap-dark .jupyter-button {\n",
       "                    --jp-layout-color3: #383838;\n",
       "                }\n",
       "\n",
       "                .geemap-colab {\n",
       "                    background-color: var(--colab-primary-surface-color, white);\n",
       "                }\n",
       "\n",
       "                .geemap-colab .jupyter-button {\n",
       "                    --jp-layout-color3: var(--colab-primary-surface-color, white);\n",
       "                }\n",
       "            </style>\n",
       "            "
      ],
      "text/plain": [
       "<IPython.core.display.HTML object>"
      ]
     },
     "metadata": {},
     "output_type": "display_data"
    }
   ],
   "source": [
    "centro = 'ISLOTE BONITO (ANT06-110453)'\n",
    "data = gpd.read_file('data_center.geojson').to_crs(4326)\n",
    "center = data[data['Name'] == centro]\n",
    "center_location = list(center['geometry'].get_coordinates().values[0][::-1])\n",
    "\n",
    "aoi = gpd.GeoSeries(center['geometry'].buffer(0.01)).to_crs(4326).to_json()\n",
    "aoi_bbox = ee.Geometry.Polygon(json.loads(aoi)['features'][0]['geometry']['coordinates'], 'EPSG:4326')"
   ]
  },
  {
   "cell_type": "code",
   "execution_count": 207,
   "metadata": {},
   "outputs": [
    {
     "data": {
      "text/html": [
       "\n",
       "            <style>\n",
       "                .geemap-dark {\n",
       "                    --jp-widgets-color: white;\n",
       "                    --jp-widgets-label-color: white;\n",
       "                    --jp-ui-font-color1: white;\n",
       "                    --jp-layout-color2: #454545;\n",
       "                    background-color: #383838;\n",
       "                }\n",
       "\n",
       "                .geemap-dark .jupyter-button {\n",
       "                    --jp-layout-color3: #383838;\n",
       "                }\n",
       "\n",
       "                .geemap-colab {\n",
       "                    background-color: var(--colab-primary-surface-color, white);\n",
       "                }\n",
       "\n",
       "                .geemap-colab .jupyter-button {\n",
       "                    --jp-layout-color3: var(--colab-primary-surface-color, white);\n",
       "                }\n",
       "            </style>\n",
       "            "
      ],
      "text/plain": [
       "<IPython.core.display.HTML object>"
      ]
     },
     "metadata": {},
     "output_type": "display_data"
    },
    {
     "name": "stdout",
     "output_type": "stream",
     "text": [
      "Se obtuvieron 43 imágenes del COPERNICUS\n",
      "Se obtuvieron 402 imágenes del MODIS\n",
      "Se trabajará con 43 imágenes\n"
     ]
    }
   ],
   "source": [
    "def get_copernicus_collection(aoi, dates, clouds=10):\n",
    "    collection = ee.ImageCollection('COPERNICUS/S2_SR').filterBounds(aoi).filterDate(dates[0], dates[1])\n",
    "    collection = collection.filter(ee.Filter.lte('CLOUDY_PIXEL_PERCENTAGE', clouds))\n",
    "    collection = collection.map(preprocess)\n",
    "    collection = collection.sort('system:time_start', False)\n",
    "    images = collection.aggregate_array('system:id').getInfo()\n",
    "    print(f'Se obtuvieron {len(images)} imágenes del COPERNICUS')\n",
    "    return collection, images\n",
    "\n",
    "def get_modis_collection(aoi, dates, clouds=10):\n",
    "    collection = ee.ImageCollection('NASA/OCEANDATA/MODIS-Terra/L3SMI').filterBounds(aoi).filterDate(dates[0], dates[1])\n",
    "    # collection = collection.filter(ee.Filter.lte('CLOUDY_PIXEL_PERCENTAGE', clouds))\n",
    "    collection = collection.sort('system:time_start', False)\n",
    "    images = collection.aggregate_array('system:id').getInfo()\n",
    "    print(f'Se obtuvieron {len(images)} imágenes del MODIS')\n",
    "    return collection, images\n",
    "\n",
    "\n",
    "def preprocess(image):\n",
    "    ndvi = image.normalizedDifference(['B8', 'B4']).rename('NDVI')\n",
    "    optical_bands = image.select('B.').multiply(0.0001)\n",
    "    return image.addBands(ndvi).addBands(optical_bands, None, True)\n",
    "\n",
    "\n",
    "def get_dates(collection):\n",
    "    dates = collection.aggregate_array('system:time_start').getInfo()\n",
    "    dates = [pd.to_datetime(date, unit='ms') for date in dates]\n",
    "    dates = [date.strftime('%Y-%m-%d') for date in dates]\n",
    "\n",
    "    return dates\n",
    "\n",
    "dates = ['2020-12-11', '2022-12-12']\n",
    "clouds = 25\n",
    "collection_copernicus, images_copernicus = get_copernicus_collection(aoi_bbox, dates, clouds=clouds)\n",
    "collection_modis, images_modis = get_modis_collection(aoi_bbox, dates, clouds=clouds)\n",
    "\n",
    "dates_copernicus = get_dates(collection_copernicus)\n",
    "# dates_modis = get_dates(collection_modis)\n",
    "fechas = set(dates_copernicus) #& set(dates_modis)\n",
    "print(f'Se trabajará con {len(fechas)} imágenes')\n"
   ]
  },
  {
   "cell_type": "code",
   "execution_count": 219,
   "metadata": {},
   "outputs": [
    {
     "data": {
      "text/html": [
       "\n",
       "            <style>\n",
       "                .geemap-dark {\n",
       "                    --jp-widgets-color: white;\n",
       "                    --jp-widgets-label-color: white;\n",
       "                    --jp-ui-font-color1: white;\n",
       "                    --jp-layout-color2: #454545;\n",
       "                    background-color: #383838;\n",
       "                }\n",
       "\n",
       "                .geemap-dark .jupyter-button {\n",
       "                    --jp-layout-color3: #383838;\n",
       "                }\n",
       "\n",
       "                .geemap-colab {\n",
       "                    background-color: var(--colab-primary-surface-color, white);\n",
       "                }\n",
       "\n",
       "                .geemap-colab .jupyter-button {\n",
       "                    --jp-layout-color3: var(--colab-primary-surface-color, white);\n",
       "                }\n",
       "            </style>\n",
       "            "
      ],
      "text/plain": [
       "<IPython.core.display.HTML object>"
      ]
     },
     "metadata": {},
     "output_type": "display_data"
    },
    {
     "data": {
      "text/plain": [
       "'2022-11-04'"
      ]
     },
     "execution_count": 219,
     "metadata": {},
     "output_type": "execute_result"
    }
   ],
   "source": [
    "pd.to_datetime(ee.Image(images_copernicus[0]).get('system:time_start').getInfo(), unit='ms').strftime('%Y-%m-%d')"
   ]
  },
  {
   "cell_type": "code",
   "execution_count": 182,
   "metadata": {},
   "outputs": [
    {
     "data": {
      "text/html": [
       "\n",
       "            <style>\n",
       "                .geemap-dark {\n",
       "                    --jp-widgets-color: white;\n",
       "                    --jp-widgets-label-color: white;\n",
       "                    --jp-ui-font-color1: white;\n",
       "                    --jp-layout-color2: #454545;\n",
       "                    background-color: #383838;\n",
       "                }\n",
       "\n",
       "                .geemap-dark .jupyter-button {\n",
       "                    --jp-layout-color3: #383838;\n",
       "                }\n",
       "\n",
       "                .geemap-colab {\n",
       "                    background-color: var(--colab-primary-surface-color, white);\n",
       "                }\n",
       "\n",
       "                .geemap-colab .jupyter-button {\n",
       "                    --jp-layout-color3: var(--colab-primary-surface-color, white);\n",
       "                }\n",
       "            </style>\n",
       "            "
      ],
      "text/plain": [
       "<IPython.core.display.HTML object>"
      ]
     },
     "metadata": {},
     "output_type": "display_data"
    },
    {
     "data": {
      "application/vnd.jupyter.widget-view+json": {
       "model_id": "b909fe03498242fba817263f4d287244",
       "version_major": 2,
       "version_minor": 0
      },
      "text/plain": [
       "Map(center=[-45.2985822220971, -73.23471854601745], controls=(WidgetControl(options=['position', 'transparent_…"
      ]
     },
     "execution_count": 182,
     "metadata": {},
     "output_type": "execute_result"
    }
   ],
   "source": [
    "import geemap\n",
    "\n",
    "image_copernicus = collection_copernicus.median()\n",
    "image_copernicus = image_copernicus.clip(aoi_bbox) \n",
    "\n",
    "image_modis = collection_modis.median()\n",
    "image_modis = image_modis#.clip(aoi_bbox) \n",
    "\n",
    "# -73.50121 -45.37232\n",
    "Map = geemap.Map(center=center_location, zoom=16)\n",
    "Map.addLayer(aoi_bbox)\n",
    "\n",
    "imageRGB = image_copernicus.visualize(**{'bands': ['TCI_R', 'TCI_G', 'TCI_B'],'min':0, 'max': 100})\n",
    "Map.addLayer(imageRGB, {}, 'RGB', True)\n",
    "\n",
    "imageModis = image_modis.visualize(**{'bands': ['chlor_a',],'min':0, 'max': 100})\n",
    "Map.addLayer(imageModis, {}, 'modis', True)\n",
    "\n",
    "Map"
   ]
  },
  {
   "cell_type": "markdown",
   "metadata": {},
   "source": [
    "## Data mining"
   ]
  },
  {
   "cell_type": "code",
   "execution_count": 196,
   "metadata": {},
   "outputs": [
    {
     "data": {
      "text/html": [
       "\n",
       "            <style>\n",
       "                .geemap-dark {\n",
       "                    --jp-widgets-color: white;\n",
       "                    --jp-widgets-label-color: white;\n",
       "                    --jp-ui-font-color1: white;\n",
       "                    --jp-layout-color2: #454545;\n",
       "                    background-color: #383838;\n",
       "                }\n",
       "\n",
       "                .geemap-dark .jupyter-button {\n",
       "                    --jp-layout-color3: #383838;\n",
       "                }\n",
       "\n",
       "                .geemap-colab {\n",
       "                    background-color: var(--colab-primary-surface-color, white);\n",
       "                }\n",
       "\n",
       "                .geemap-colab .jupyter-button {\n",
       "                    --jp-layout-color3: var(--colab-primary-surface-color, white);\n",
       "                }\n",
       "            </style>\n",
       "            "
      ],
      "text/plain": [
       "<IPython.core.display.HTML object>"
      ]
     },
     "metadata": {},
     "output_type": "display_data"
    }
   ],
   "source": [
    "# Enhanced vegetation index (EVI)\n",
    "def calculate_evi_image(image):\n",
    "    evi_image = image.expression(\n",
    "        '(2.5 * (NIR - RED)) / (NIR + 6 * RED - 7.5 * BLUE + 1)',\n",
    "        {\n",
    "            'NIR': image.select('B8'),\n",
    "            'RED': image.select('B4'),\n",
    "            'BLUE': image.select('B2')\n",
    "        }\n",
    "    )\n",
    "    return evi_image\n",
    "\n",
    "# Normalized Ratio Vegetation Index (NRVI)\n",
    "def calculate_nrvi_image(image):\n",
    "    nrvi_image = image.expression(\n",
    "        '(RED/NIR - 1) / (RED/NIR + 1)',\n",
    "        {\n",
    "            'NIR': image.select('B8'),\n",
    "            'RED': image.select('B4')\n",
    "        }\n",
    "    )\n",
    "    return nrvi_image\n",
    "\n",
    "# Normalized Difference Water Index (NDWI)\n",
    "def calculate_ndwi_image(image):\n",
    "    ndwi_image = image.expression(\n",
    "        '(GREEN - NIR) / (GREEN + NIR)',\n",
    "        {\n",
    "            'NIR': image.select('B8'),\n",
    "            'GREEN': image.select('B3')\n",
    "        }\n",
    "    )\n",
    "    return ndwi_image\n",
    "\n",
    "# Normalized Difference Water Index (NDWI2) ndvi_2 es un typo\n",
    "def calculate_ndvi2_image(image):\n",
    "    ndvi2_image = image.expression(\n",
    "        '(NIR - SWIR2) / (NIR + SWIR2)',\n",
    "        {\n",
    "            'NIR': image.select('B8'),\n",
    "            'SWIR2': image.select('B12')\n",
    "        }\n",
    "    )\n",
    "    return ndvi2_image\n",
    "\n",
    "# Modified Normalized Difference Water Index (MNDWI)\n",
    "def calculate_mndwi_image(image):\n",
    "    mndwi_image = image.expression(\n",
    "        '(GREEN - SWIR2) / (GREEN + SWIR2)',\n",
    "        {\n",
    "            'GREEN': image.select('B3'),\n",
    "            'SWIR2': image.select('B12')\n",
    "        }\n",
    "    )\n",
    "    return mndwi_image\n",
    "\n",
    "# Green Normalized Difference Vegetation Index\n",
    "def calculate_gndvi_image(image):\n",
    "    gndvi = image.expression(\n",
    "        '(NIR - GREEN) / (NIR + GREEN)',\n",
    "        {\n",
    "            'NIR': image.select('B8'),\n",
    "            'GREEN': image.select('B3')\n",
    "        }\n",
    "    )\n",
    "    return gndvi\n",
    "    \n",
    "# Normalized Difference Vegetation Index\n",
    "def calculate_ndvi_image(image):\n",
    "    ndvi = image.expression(\n",
    "        '(NIR - RED) / (NIR + RED)',\n",
    "        {\n",
    "            'NIR': image.select('B8'),\n",
    "            'RED': image.select('B4')\n",
    "        }\n",
    "    )\n",
    "    return ndvi\n"
   ]
  },
  {
   "cell_type": "code",
   "execution_count": 17,
   "metadata": {},
   "outputs": [
    {
     "data": {
      "text/html": [
       "\n",
       "            <style>\n",
       "                .geemap-dark {\n",
       "                    --jp-widgets-color: white;\n",
       "                    --jp-widgets-label-color: white;\n",
       "                    --jp-ui-font-color1: white;\n",
       "                    --jp-layout-color2: #454545;\n",
       "                    background-color: #383838;\n",
       "                }\n",
       "\n",
       "                .geemap-dark .jupyter-button {\n",
       "                    --jp-layout-color3: #383838;\n",
       "                }\n",
       "\n",
       "                .geemap-colab {\n",
       "                    background-color: var(--colab-primary-surface-color, white);\n",
       "                }\n",
       "\n",
       "                .geemap-colab .jupyter-button {\n",
       "                    --jp-layout-color3: var(--colab-primary-surface-color, white);\n",
       "                }\n",
       "            </style>\n",
       "            "
      ],
      "text/plain": [
       "<IPython.core.display.HTML object>"
      ]
     },
     "metadata": {},
     "output_type": "display_data"
    }
   ],
   "source": [
    "# # Enhanced vegetation index (EVI)\n",
    "# def calculate_evi(collection_images):\n",
    "#     evi_collection = collection_images.map(lambda image: image.expression(\n",
    "#         '(2.5 * (NIR - RED)) / (NIR + 6 * RED - 7.5 * BLUE + 1)',\n",
    "#         {\n",
    "#             'NIR': image.select('B8'),\n",
    "#             'RED': image.select('B4'),\n",
    "#             'BLUE': image.select('B2')\n",
    "#         }\n",
    "#     ))\n",
    "\n",
    "#     return evi_collection\n",
    "\n",
    "# # Normalized Ratio Vegetation Index (NRVI)\n",
    "# def calculate_nrvi(collection_images):\n",
    "#     nrvi_collection = collection_images.map(lambda image: image.expression(\n",
    "#         '(RED/NIR - 1) / (RED/NIR + 1)',\n",
    "#         {\n",
    "#             'NIR': image.select('B8'),\n",
    "#             'RED': image.select('B4')\n",
    "#         }\n",
    "#     ))\n",
    "\n",
    "#     return nrvi_collection\n",
    "\n",
    "# # Normalized Difference Water Index (NDWI)\n",
    "# def calculate_ndwi(collection_images):\n",
    "#     ndwi_collection = collection_images.map(lambda image: image.expression(\n",
    "#         '(GREEN - NIR) / (GREEN + NIR)',\n",
    "#         {\n",
    "#             'NIR': image.select('B8'),\n",
    "#             'GREEN': image.select('B3')\n",
    "#         }\n",
    "#     ))\n",
    "\n",
    "#     return ndwi_collection\n",
    "\n",
    "# # Normalized Difference Water Index (NDWI2) ndvi_2 es un typo\n",
    "# def calculate_ndvi2(collection_images):\n",
    "#     ndvi2_collection = collection_images.map(lambda image: image.expression(\n",
    "#         '(NIR - SWIR2) / (NIR + SWIR2)',\n",
    "#         {\n",
    "#             'NIR': image.select('B8'),\n",
    "#             'SWIR2': image.select('B12')\n",
    "#         }\n",
    "#     ))\n",
    "\n",
    "#     return ndvi2_collection\n",
    "\n",
    "# # Modified Normalized Difference Water Index (MNDWI)\n",
    "# def calculate_mndwi(collection_images):\n",
    "#     mndwi_collection = collection_images.map(lambda image: image.expression(\n",
    "#         '(GREEN - SWIR2) / (GREEN + SWIR2)',\n",
    "#         {\n",
    "#             'GREEN': image.select('B3'),\n",
    "#             'SWIR2': image.select('B12')\n",
    "#         }\n",
    "#     ))\n",
    "\n",
    "#     return mndwi_collection\n",
    "\n",
    "# # Green Normalized Difference Vegetation Index\n",
    "# def calculate_gndvi(collection_images):\n",
    "#     gndvi_collection = collection_images.map(lambda image: image.expression(\n",
    "#         '(NIR - GREEN) / (NIR + GREEN)',\n",
    "#         {\n",
    "#             'NIR': image.select('B8'),\n",
    "#             'GREEN': image.select('B3')\n",
    "#         }\n",
    "#     ))\n",
    "\n",
    "#     return gndvi_collection\n",
    "\n",
    "# # Normalized Difference Vegetation Index\n",
    "# def calculate_ndvi(collection_images):\n",
    "#     ndvi_collection = collection_images.map(lambda image: image.expression(\n",
    "#         '(NIR - RED) / (NIR + RED)',\n",
    "#         {\n",
    "#             'NIR': image.select('B8'),\n",
    "#             'RED': image.select('B4')\n",
    "#         }\n",
    "#     ))\n",
    "\n",
    "#     return ndvi_collection\n",
    "\n",
    "# # Indices de bandas\n",
    "\n",
    "# def calculate_b3b1(collection_images):\n",
    "#     b3b1_collection = collection_images.map(lambda image: image.expression(\n",
    "#         'GREEN / AEROSOLS',\n",
    "#         {\n",
    "#             'GREEN': image.select('B3'),\n",
    "#             'AEROSOLS': image.select('B1')\n",
    "#         }\n",
    "#     ))\n",
    "\n",
    "#     return b3b1_collection\n",
    "\n",
    "\n",
    "# def calculate_b3b2(collection_images):\n",
    "#     b3b2_collection = collection_images.map(lambda image: image.expression(\n",
    "#         'GREEN / BLUE',\n",
    "#         {\n",
    "#             'GREEN': image.select('B3'),\n",
    "#             'BLUE': image.select('B2')\n",
    "#         }\n",
    "#     ))\n",
    "\n",
    "#     return b3b2_collection\n",
    "\n",
    "# def calculate_b3b4(collection_images):\n",
    "#     b3b4_collection = collection_images.map(lambda image: image.expression(\n",
    "#         'GREEN / RED',\n",
    "#         {\n",
    "#             'GREEN': image.select('B3'),\n",
    "#             'RED': image.select('B4')\n",
    "#         }\n",
    "#     ))\n",
    "\n",
    "#     return b3b4_collection\n",
    "\n",
    "# def calculate_b5b4(collection_images):\n",
    "#     b5b4_collection = collection_images.map(lambda image: image.expression(\n",
    "#         'RED_EDGE_1 / RED',\n",
    "#         {\n",
    "#             'RED_EDGE_1': image.select('B5'),\n",
    "#             'RED': image.select('B4')\n",
    "#         }\n",
    "#     ))\n",
    "\n",
    "#     return b5b4_collection\n",
    "\n",
    "# def calculate_b6b4(collection_images):\n",
    "#     b6b4_collection = collection_images.map(lambda image: image.expression(\n",
    "#         'RED_EDGE_2 / RED',\n",
    "#         {\n",
    "#             'RED_EDGE_2': image.select('B6'),\n",
    "#             'RED': image.select('B4')\n",
    "#         }\n",
    "#     ))\n",
    "\n",
    "#     return b6b4_collection\n",
    "\n",
    "# def calculate_b7b4(collection_images):\n",
    "#     b7b4_collection = collection_images.map(lambda image: image.expression(\n",
    "#         'RED_EDGE_3 / RED',\n",
    "#         {\n",
    "#             'RED_EDGE_3': image.select('B7'),\n",
    "#             'RED': image.select('B4')\n",
    "#         }\n",
    "#     ))\n",
    "\n",
    "#     return b7b4_collection\n",
    "\n",
    "# def calculate_b8ab4(collection_images):\n",
    "#     b8ab4_collection = collection_images.map(lambda image: image.expression(\n",
    "#         'NIR / RED',\n",
    "#         {\n",
    "#             'NIR': image.select('B8A'),\n",
    "#             'RED': image.select('B4')\n",
    "#         }\n",
    "#     ))\n",
    "\n",
    "#     return b8ab4_collection\n",
    "\n",
    "# def calculate_b8b4(collection_images):\n",
    "#     b8b4_collection = collection_images.map(lambda image: image.expression(\n",
    "#         'NIR / RED',\n",
    "#         {\n",
    "#             'NIR': image.select('B8'),\n",
    "#             'RED': image.select('B4')\n",
    "#         }\n",
    "#     ))\n",
    "\n",
    "#     return b8b4_collection\n",
    "\n",
    "# def calculate_oc2(collection_images):\n",
    "#     oc2_collection = collection_images.map(lambda image: image.expression(\n",
    "#         '10 ** (0.319 - 2.336 * R_2 + 0.879 * (R_2**2) - 0.135 * (R_2**3)) - 0.071',\n",
    "#         {\n",
    "#             'R_2': ee.Image(image.select('B2')).divide(image.select('B3')).log10()\n",
    "#         }\n",
    "#     ))\n",
    "    \n",
    "#     return oc2_collection\n",
    "\n",
    "# def calculate_oc4(collection_images):\n",
    "#     oc4_collection = collection_images.map(lambda image: image.expression(\n",
    "#         '10 ** (0.366 - 3.067 * R_4 + 1.930 * (R_4**2) + 0.649 * (R_4**3) - 1.532 * (R_4**4))',\n",
    "#         {\n",
    "#             'R_4': image.select(['B1', 'B2']).reduce(ee.Reducer.max()).divide(image.select('B3')).log10()\n",
    "#         }\n",
    "#     ))\n",
    "    \n",
    "#     return oc4_collection"
   ]
  },
  {
   "cell_type": "code",
   "execution_count": 259,
   "metadata": {},
   "outputs": [
    {
     "data": {
      "text/html": [
       "\n",
       "            <style>\n",
       "                .geemap-dark {\n",
       "                    --jp-widgets-color: white;\n",
       "                    --jp-widgets-label-color: white;\n",
       "                    --jp-ui-font-color1: white;\n",
       "                    --jp-layout-color2: #454545;\n",
       "                    background-color: #383838;\n",
       "                }\n",
       "\n",
       "                .geemap-dark .jupyter-button {\n",
       "                    --jp-layout-color3: #383838;\n",
       "                }\n",
       "\n",
       "                .geemap-colab {\n",
       "                    background-color: var(--colab-primary-surface-color, white);\n",
       "                }\n",
       "\n",
       "                .geemap-colab .jupyter-button {\n",
       "                    --jp-layout-color3: var(--colab-primary-surface-color, white);\n",
       "                }\n",
       "            </style>\n",
       "            "
      ],
      "text/plain": [
       "<IPython.core.display.HTML object>"
      ]
     },
     "metadata": {},
     "output_type": "display_data"
    }
   ],
   "source": [
    "import os\n",
    "from tqdm import tqdm\n",
    "\n",
    "def metric_a_center(center_name, dates):\n",
    "    data = gpd.read_file('data_center.geojson').to_crs(4326)\n",
    "    center = data[data['Name'] == center_name]\n",
    "    # center_location = list(center['geometry'].get_coordinates().values[0][::-1])\n",
    "    aoi = gpd.GeoSeries(center['geometry'].buffer(0.005)).to_crs(4326).to_json()\n",
    "    aoi_bbox = ee.Geometry.Polygon(json.loads(aoi)['features'][0]['geometry']['coordinates'], 'EPSG:4326')\n",
    "    clouds = 20\n",
    "    collection_copernicus, images_copernicus = get_copernicus_collection(aoi_bbox, dates, clouds=clouds)\n",
    "    images_copernicus = list(reversed(images_copernicus))\n",
    "\n",
    "    metrics = {\n",
    "        'time':[],\n",
    "        'evi':[], \n",
    "        # 'nrvi':[], \n",
    "        # 'ndwi':[], \n",
    "        # 'gndvi':[], \n",
    "        # 'ndvi':[], \n",
    "        # 'mndwi':[], \n",
    "        'ndvi2':[], \n",
    "    }\n",
    "\n",
    "    for image in tqdm(images_copernicus):\n",
    "        evi = calculate_evi_image(ee.Image(image)).clip(aoi_bbox)\n",
    "        nrvi = calculate_nrvi_image(ee.Image(image)).clip(aoi_bbox)\n",
    "        ndwi = calculate_ndwi_image(ee.Image(image)).clip(aoi_bbox)\n",
    "        gndvi = calculate_gndvi_image(ee.Image(image)).clip(aoi_bbox)\n",
    "        ndvi = calculate_ndvi_image(ee.Image(image)).clip(aoi_bbox)\n",
    "        mndwi = calculate_mndwi_image(ee.Image(image)).clip(aoi_bbox)\n",
    "        ndvi2 = calculate_ndvi2_image(ee.Image(image)).clip(aoi_bbox)\n",
    "\n",
    "        metrics['time'].append(pd.to_datetime(ee.Image(image).get('system:time_start').getInfo(), unit='ms').strftime('%Y-%m-%d'))\n",
    "        metrics['evi'].append(evi.reduceRegion(reducer=ee.Reducer.mean(), geometry=aoi_bbox, crs='EPSG:4326', scale=10).getInfo()['constant'])\n",
    "        # metrics['nrvi'].append(nrvi.reduceRegion(reducer=ee.Reducer.mean(), geometry=aoi_bbox, crs='EPSG:4326', scale=10).getInfo()['B4'])\n",
    "        # metrics['ndwi'].append(ndwi.reduceRegion(reducer=ee.Reducer.mean(), geometry=aoi_bbox, crs='EPSG:4326', scale=10).getInfo()['B3'])\n",
    "        # metrics['gndvi'].append(gndvi.reduceRegion(reducer=ee.Reducer.mean(), geometry=aoi_bbox, crs='EPSG:4326', scale=10).getInfo()['B8'])\n",
    "        # metrics['ndvi'].append(ndvi.reduceRegion(reducer=ee.Reducer.mean(), geometry=aoi_bbox, crs='EPSG:4326', scale=10).getInfo()['B8'])\n",
    "        # metrics['mndwi'].append(mndwi.reduceRegion(reducer=ee.Reducer.mean(), geometry=aoi_bbox, crs='EPSG:4326', scale=20).getInfo()['B3'])\n",
    "        metrics['ndvi2'].append(ndvi2.reduceRegion(reducer=ee.Reducer.mean(), geometry=aoi_bbox, crs='EPSG:4326', scale=20).getInfo()['B8'])\n",
    "\n",
    "    metrics = pd.DataFrame.from_dict(metrics)\n",
    "    metrics.to_csv(f'metrics/{center_name}.csv', index=False)"
   ]
  },
  {
   "cell_type": "code",
   "execution_count": 260,
   "metadata": {},
   "outputs": [
    {
     "data": {
      "text/html": [
       "\n",
       "            <style>\n",
       "                .geemap-dark {\n",
       "                    --jp-widgets-color: white;\n",
       "                    --jp-widgets-label-color: white;\n",
       "                    --jp-ui-font-color1: white;\n",
       "                    --jp-layout-color2: #454545;\n",
       "                    background-color: #383838;\n",
       "                }\n",
       "\n",
       "                .geemap-dark .jupyter-button {\n",
       "                    --jp-layout-color3: #383838;\n",
       "                }\n",
       "\n",
       "                .geemap-colab {\n",
       "                    background-color: var(--colab-primary-surface-color, white);\n",
       "                }\n",
       "\n",
       "                .geemap-colab .jupyter-button {\n",
       "                    --jp-layout-color3: var(--colab-primary-surface-color, white);\n",
       "                }\n",
       "            </style>\n",
       "            "
      ],
      "text/plain": [
       "<IPython.core.display.HTML object>"
      ]
     },
     "metadata": {},
     "output_type": "display_data"
    },
    {
     "name": "stdout",
     "output_type": "stream",
     "text": [
      "Centro: BARQUILLO (MEF03-101296)\n",
      "Se obtuvieron 287 imágenes del COPERNICUS\n"
     ]
    },
    {
     "name": "stderr",
     "output_type": "stream",
     "text": [
      "  9%|▊         | 25/287 [00:51<08:24,  1.92s/it]"
     ]
    }
   ],
   "source": [
    "data = gpd.read_file('data_center.geojson').to_crs(4326)\n",
    "for center in data['Name']:\n",
    "    print(f'Centro: {center}')\n",
    "    dates = ['2018-01-01', '2024-07-07']\n",
    "    metric_a_center(center, dates)"
   ]
  },
  {
   "cell_type": "markdown",
   "metadata": {},
   "source": [
    "## Análisis"
   ]
  },
  {
   "cell_type": "code",
   "execution_count": 249,
   "metadata": {},
   "outputs": [
    {
     "data": {
      "text/html": [
       "\n",
       "            <style>\n",
       "                .geemap-dark {\n",
       "                    --jp-widgets-color: white;\n",
       "                    --jp-widgets-label-color: white;\n",
       "                    --jp-ui-font-color1: white;\n",
       "                    --jp-layout-color2: #454545;\n",
       "                    background-color: #383838;\n",
       "                }\n",
       "\n",
       "                .geemap-dark .jupyter-button {\n",
       "                    --jp-layout-color3: #383838;\n",
       "                }\n",
       "\n",
       "                .geemap-colab {\n",
       "                    background-color: var(--colab-primary-surface-color, white);\n",
       "                }\n",
       "\n",
       "                .geemap-colab .jupyter-button {\n",
       "                    --jp-layout-color3: var(--colab-primary-surface-color, white);\n",
       "                }\n",
       "            </style>\n",
       "            "
      ],
      "text/plain": [
       "<IPython.core.display.HTML object>"
      ]
     },
     "metadata": {},
     "output_type": "display_data"
    },
    {
     "data": {
      "image/png": "[encoded data removed]",
      "text/plain": [
       "<Figure size 432x288 with 1 Axes>"
      ]
     },
     "metadata": {
      "needs_background": "light"
     },
     "output_type": "display_data"
    }
   ],
   "source": [
    "import seaborn as sns\n",
    "import matplotlib.pyplot as plt\n",
    "\n",
    "center = 'BARQUILLO (MEF03-101296)'\n",
    "metrics = pd.read_csv(f'metrics/{center}.csv')\n",
    "sns.boxplot(x=metrics['ndvi'])\n",
    "plt.show()"
   ]
  },
  {
   "cell_type": "code",
   "execution_count": 250,
   "metadata": {},
   "outputs": [
    {
     "data": {
      "text/html": [
       "\n",
       "            <style>\n",
       "                .geemap-dark {\n",
       "                    --jp-widgets-color: white;\n",
       "                    --jp-widgets-label-color: white;\n",
       "                    --jp-ui-font-color1: white;\n",
       "                    --jp-layout-color2: #454545;\n",
       "                    background-color: #383838;\n",
       "                }\n",
       "\n",
       "                .geemap-dark .jupyter-button {\n",
       "                    --jp-layout-color3: #383838;\n",
       "                }\n",
       "\n",
       "                .geemap-colab {\n",
       "                    background-color: var(--colab-primary-surface-color, white);\n",
       "                }\n",
       "\n",
       "                .geemap-colab .jupyter-button {\n",
       "                    --jp-layout-color3: var(--colab-primary-surface-color, white);\n",
       "                }\n",
       "            </style>\n",
       "            "
      ],
      "text/plain": [
       "<IPython.core.display.HTML object>"
      ]
     },
     "metadata": {},
     "output_type": "display_data"
    }
   ],
   "source": [
    "# !pip install rpy2\n",
    "%load_ext rpy2.ipython"
   ]
  },
  {
   "cell_type": "code",
   "execution_count": 251,
   "metadata": {},
   "outputs": [
    {
     "data": {
      "text/html": [
       "\n",
       "            <style>\n",
       "                .geemap-dark {\n",
       "                    --jp-widgets-color: white;\n",
       "                    --jp-widgets-label-color: white;\n",
       "                    --jp-ui-font-color1: white;\n",
       "                    --jp-layout-color2: #454545;\n",
       "                    background-color: #383838;\n",
       "                }\n",
       "\n",
       "                .geemap-dark .jupyter-button {\n",
       "                    --jp-layout-color3: #383838;\n",
       "                }\n",
       "\n",
       "                .geemap-colab {\n",
       "                    background-color: var(--colab-primary-surface-color, white);\n",
       "                }\n",
       "\n",
       "                .geemap-colab .jupyter-button {\n",
       "                    --jp-layout-color3: var(--colab-primary-surface-color, white);\n",
       "                }\n",
       "            </style>\n",
       "            "
      ],
      "text/plain": [
       "<IPython.core.display.HTML object>"
      ]
     },
     "metadata": {},
     "output_type": "display_data"
    },
    {
     "name": "stdout",
     "output_type": "stream",
     "text": [
      "         time           evi          nrvi       ndwi       gndvi          ndvi\n",
      "1  2019-01-09  4.756484e-02  0.7871075134 0.95995349 -0.95995349 -0.7871075134\n",
      "2  2019-02-03  2.160960e-02  0.5537402987 0.93121102 -0.93121102 -0.5537402983\n",
      "3  2019-02-18  3.111411e-01  0.6040628897 0.79827041 -0.79827041 -0.6040628898\n",
      "4  2019-03-10  2.767203e-03  0.0235333842 0.93574618 -0.93574618 -0.0235333842\n",
      "5  2019-03-25  1.976069e-04  0.0101162670 0.93105937 -0.93105937 -0.0101162670\n",
      "6  2019-06-28  2.745458e-02  0.4091796014 0.93819802 -0.93819802 -0.4091796014\n",
      "7  2020-02-08  9.906090e-04 -0.0092262069 0.53821834 -0.53821834  0.0092262086\n",
      "8  2020-02-28  2.467746e-02  0.4200552833 0.95210378 -0.95210378 -0.4200552829\n",
      "9  2020-03-09 -9.232749e-03 -0.1476829451 0.72166200 -0.72166200  0.1476829478\n",
      "10 2020-04-08 -7.365446e-05  0.0026871900 0.91959417 -0.91959417 -0.0026871900\n",
      "11 2020-08-31  7.413166e-03  0.0840426923 0.86972840 -0.86972840 -0.0840426922\n",
      "12 2020-12-04  3.156084e-02  0.0253863665 0.16239623 -0.16239623 -0.0253863662\n",
      "13 2021-01-23  8.780425e-02  0.4328147455 0.73013558 -0.73013558 -0.4328147454\n",
      "14 2021-02-07  4.381854e-01  0.3791573476 0.56716340 -0.56716340 -0.3791573473\n",
      "15 2021-02-12  5.061621e-02  0.1792297344 0.43148484 -0.43148484 -0.1792297341\n",
      "16 2021-03-04  6.258607e-05  0.0130455840 0.93990022 -0.93990022 -0.0130455840\n",
      "17 2021-05-03 -8.064358e-04  0.0125716670 0.86050640 -0.86050640 -0.0125716669\n",
      "18 2021-06-17  4.834266e-02  0.6622270328 0.96516184 -0.96516184 -0.6622270328\n",
      "19 2021-10-05  4.634342e-02  0.1612163462 0.44327914 -0.44327914 -0.1612163457\n",
      "20 2021-10-30  2.995441e-02  0.0556729821 0.23139170 -0.23139170 -0.0556729814\n",
      "21 2021-11-09  3.762343e-02  0.0670063424 0.26965686 -0.26965686 -0.0670063419\n",
      "22 2021-12-04  1.034806e-01  0.6639491548 0.89805606 -0.89805606 -0.6639491548\n",
      "23 2021-12-09  4.172960e-02  0.1019705612 0.32671217 -0.32671217 -0.1019705608\n",
      "24 2022-01-18  5.750858e-02  0.1919840502 0.50332758 -0.50332758 -0.1919840501\n",
      "25 2022-01-28  3.724263e-02  0.0084257038 0.03443904 -0.03443904 -0.0084257047\n",
      "26 2022-02-17  3.310193e-02  0.0074319310 0.03364778 -0.03364778 -0.0074319310\n",
      "27 2022-02-22  4.968690e-02  0.0082675882 0.02734661 -0.02734661 -0.0082675897\n",
      "28 2022-06-22  4.848249e-02  0.0127354280 0.03387021 -0.03387021 -0.0127354286\n",
      "29 2022-08-06 -2.311097e-02 -0.0056929064 0.01254831 -0.01254831  0.0056929065\n",
      "30 2022-09-20  1.975444e-02  0.0043582664 0.02060971 -0.02060971 -0.0043582667\n",
      "31 2023-01-18  2.069689e-02  0.0039401164 0.03219895 -0.03219895 -0.0039401174\n",
      "32 2023-04-13 -2.117025e-02 -0.0041830568 0.01500400 -0.01500400  0.0041830568\n",
      "33 2023-07-17  3.945351e-02  0.0075388979 0.02554382 -0.02554382 -0.0075388986\n",
      "34 2023-09-20 -9.413055e-03 -0.0025628980 0.02131411 -0.02131411  0.0025628985\n",
      "35 2023-10-25  4.694538e-02  0.0069462259 0.02097325 -0.02097325 -0.0069462265\n",
      "36 2023-10-30 -6.174877e-02 -0.0051238676 0.01400472 -0.01400472  0.0051238677\n",
      "37 2023-11-24  1.408338e-02  0.0026541188 0.02265194 -0.02265194 -0.0026541194\n",
      "38 2023-12-29  4.404915e-02  0.0074401241 0.04078363 -0.04078363 -0.0074401255\n",
      "39 2024-02-12  2.185638e-01  0.0050306844 0.03115795 -0.03115795 -0.0050306847\n",
      "40 2024-04-12  2.386349e-02  0.0025949525 0.01621787 -0.01621787 -0.0025949519\n",
      "41 2024-05-07 -1.050615e-03  0.0009849241 0.01845873 -0.01845873 -0.0009849238\n",
      "          mndwi         ndvi2 dummy\n",
      "1   0.846640675 -0.5233498333     0\n",
      "2   0.760093610 -0.5859350155     0\n",
      "3   0.585244386 -0.4484744538     0\n",
      "4   0.805742130 -0.3487245276     0\n",
      "5   0.815270524 -0.3168599567     0\n",
      "6   0.794115664 -0.2943842383     0\n",
      "7   0.627895327  0.1336470561     0\n",
      "8   0.874687980 -0.3943087601     0\n",
      "9   0.704264941 -0.0952978970     0\n",
      "10  0.834703607 -0.2074108954     0\n",
      "11  0.691812593 -0.3283585977     1\n",
      "12  0.252849195  0.0952561098     0\n",
      "13  0.589868674 -0.2989662017     0\n",
      "14  0.421444908 -0.2083327835     0\n",
      "15  0.333512056 -0.1253649695     0\n",
      "16  0.838340736 -0.3176138997     0\n",
      "17  0.598338911 -0.4427876572     0\n",
      "18  0.912876168 -0.1875438586     0\n",
      "19  0.383528253 -0.0930613736     0\n",
      "20  0.298595457  0.0713859492     0\n",
      "21  0.349568651  0.0882328173     0\n",
      "22  0.439009939 -0.7674279276     0\n",
      "23  0.328156039 -0.0168683333     0\n",
      "24  0.445272746 -0.1341856220     0\n",
      "25  0.028014096 -0.0063018150     0\n",
      "26  0.025374473 -0.0081798421     0\n",
      "27  0.016986404 -0.0102629958     0\n",
      "28  0.033455777 -0.0002047236     0\n",
      "29  0.011115515 -0.0013059465     1\n",
      "30  0.020048579 -0.0004144094     1\n",
      "31  0.025714223 -0.0064676937     0\n",
      "32  0.006971345 -0.0079058823     0\n",
      "33  0.015906045 -0.0096311968     0\n",
      "34  0.020652591 -0.0005440981     0\n",
      "35  0.015578226 -0.0054769407     0\n",
      "36  0.025272976  0.0113601543     0\n",
      "37  0.018587170 -0.0039700517     0\n",
      "38  0.029610537 -0.0109343919     0\n",
      "39  0.025868893 -0.0051477006     0\n",
      "40  0.002385339 -0.0136938420     0\n",
      "41 -0.004498801 -0.0228737343     0\n"
     ]
    }
   ],
   "source": [
    "%%R\n",
    "Base_LF = rio::import(\"metrics/BOLADOS (MEF04-110454).csv\")\n",
    "data = data.frame(Base_LF, dummy = 0)\n",
    "# data = data[1:116, ]\n",
    "data$dummy[11:11] = 1\n",
    "data$dummy[29:30] = 1\n",
    "# data$dummy[156:165] = 1\n",
    "data"
   ]
  },
  {
   "cell_type": "code",
   "execution_count": 257,
   "metadata": {},
   "outputs": [
    {
     "data": {
      "text/html": [
       "\n",
       "            <style>\n",
       "                .geemap-dark {\n",
       "                    --jp-widgets-color: white;\n",
       "                    --jp-widgets-label-color: white;\n",
       "                    --jp-ui-font-color1: white;\n",
       "                    --jp-layout-color2: #454545;\n",
       "                    background-color: #383838;\n",
       "                }\n",
       "\n",
       "                .geemap-dark .jupyter-button {\n",
       "                    --jp-layout-color3: #383838;\n",
       "                }\n",
       "\n",
       "                .geemap-colab {\n",
       "                    background-color: var(--colab-primary-surface-color, white);\n",
       "                }\n",
       "\n",
       "                .geemap-colab .jupyter-button {\n",
       "                    --jp-layout-color3: var(--colab-primary-surface-color, white);\n",
       "                }\n",
       "            </style>\n",
       "            "
      ],
      "text/plain": [
       "<IPython.core.display.HTML object>"
      ]
     },
     "metadata": {},
     "output_type": "display_data"
    },
    {
     "data": {
      "image/png": "[encoded data removed]",
      "text/plain": [
       "<IPython.core.display.Image object>"
      ]
     },
     "metadata": {},
     "output_type": "display_data"
    }
   ],
   "source": [
    "%%R\n",
    "fit <- lm(mndwi ~ time * dummy, data = data)\n",
    "# summary(fit)\n",
    "\n",
    "data$fitted <- fit$fitted.values\n",
    "plot(mndwi ~ time, data = data, type = \"l\")\n",
    "lines(fitted ~ time, data = data, col = \"red\")"
   ]
  },
  {
   "cell_type": "code",
   "execution_count": null,
   "metadata": {},
   "outputs": [],
   "source": []
  },
  {
   "cell_type": "code",
   "execution_count": null,
   "metadata": {},
   "outputs": [],
   "source": []
  },
  {
   "cell_type": "markdown",
   "metadata": {},
   "source": [
    "## Animations"
   ]
  },
  {
   "cell_type": "code",
   "execution_count": 158,
   "metadata": {},
   "outputs": [
    {
     "data": {
      "text/html": [
       "\n",
       "            <style>\n",
       "                .geemap-dark {\n",
       "                    --jp-widgets-color: white;\n",
       "                    --jp-widgets-label-color: white;\n",
       "                    --jp-ui-font-color1: white;\n",
       "                    --jp-layout-color2: #454545;\n",
       "                    background-color: #383838;\n",
       "                }\n",
       "\n",
       "                .geemap-dark .jupyter-button {\n",
       "                    --jp-layout-color3: #383838;\n",
       "                }\n",
       "\n",
       "                .geemap-colab {\n",
       "                    background-color: var(--colab-primary-surface-color, white);\n",
       "                }\n",
       "\n",
       "                .geemap-colab .jupyter-button {\n",
       "                    --jp-layout-color3: var(--colab-primary-surface-color, white);\n",
       "                }\n",
       "            </style>\n",
       "            "
      ],
      "text/plain": [
       "<IPython.core.display.HTML object>"
      ]
     },
     "metadata": {},
     "output_type": "display_data"
    }
   ],
   "source": [
    "def calculate_chla(collection_images):\n",
    "    chla_collection = collection_images.map(lambda image: image.expression(\n",
    "        'ndvi',\n",
    "        {\n",
    "            'gndvi': calculate_gndvi_image(image),\n",
    "            'ndvi': calculate_ndvi_image(image)\n",
    "        }\n",
    "    ))\n",
    "    return chla_collection\n",
    "\n",
    "\n",
    "def calculate_gndvi_image(image):\n",
    "    gndvi = image.expression(\n",
    "        '(NIR - GREEN) / (NIR + GREEN)',\n",
    "        {\n",
    "            'NIR': image.select('B8'),\n",
    "            'GREEN': image.select('B3')\n",
    "        }\n",
    "    )\n",
    "    return gndvi\n",
    "    \n",
    "def calculate_ndvi_image(image):\n",
    "    ndvi = image.expression(\n",
    "        '(NIR - RED) / (NIR + RED)',\n",
    "        {\n",
    "            'NIR': image.select('B8'),\n",
    "            'RED': image.select('B4')\n",
    "        }\n",
    "    )\n",
    "    return ndvi\n",
    "\n"
   ]
  },
  {
   "cell_type": "code",
   "execution_count": 188,
   "metadata": {},
   "outputs": [
    {
     "data": {
      "text/html": [
       "\n",
       "            <style>\n",
       "                .geemap-dark {\n",
       "                    --jp-widgets-color: white;\n",
       "                    --jp-widgets-label-color: white;\n",
       "                    --jp-ui-font-color1: white;\n",
       "                    --jp-layout-color2: #454545;\n",
       "                    background-color: #383838;\n",
       "                }\n",
       "\n",
       "                .geemap-dark .jupyter-button {\n",
       "                    --jp-layout-color3: #383838;\n",
       "                }\n",
       "\n",
       "                .geemap-colab {\n",
       "                    background-color: var(--colab-primary-surface-color, white);\n",
       "                }\n",
       "\n",
       "                .geemap-colab .jupyter-button {\n",
       "                    --jp-layout-color3: var(--colab-primary-surface-color, white);\n",
       "                }\n",
       "            </style>\n",
       "            "
      ],
      "text/plain": [
       "<IPython.core.display.HTML object>"
      ]
     },
     "metadata": {},
     "output_type": "display_data"
    },
    {
     "data": {
      "application/vnd.jupyter.widget-view+json": {
       "model_id": "0a836fdb52b14b8aaf284e46826b7a95",
       "version_major": 2,
       "version_minor": 0
      },
      "text/plain": [
       "Map(center=[-45.2985822220971, -73.23471854601745], controls=(WidgetControl(options=['position', 'transparent_…"
      ]
     },
     "execution_count": 188,
     "metadata": {},
     "output_type": "execute_result"
    }
   ],
   "source": [
    "fecha = '2022-04-01'\n",
    "\n",
    "dayOfInterest = ee.Date(fecha)\n",
    "\n",
    "sentinel2_collection = ee.ImageCollection('COPERNICUS/S2_SR')\\\n",
    ".filterDate(dayOfInterest, dayOfInterest.advance(10, 'day'))\\\n",
    ".filterBounds(aoi_bbox)\n",
    "\n",
    "calculate_chla_image = calculate_evi(sentinel2_collection).mean().clip(aoi_bbox)\n",
    "\n",
    "# Parámetros de visualización\n",
    "visParams = {\n",
    "    'min': -1,\n",
    "    'max': 1,\n",
    "    'palette': ['black', 'blue', 'purple', 'cyan', 'green', 'yellow', 'red']   \n",
    "}\n",
    "\n",
    "# Visualización de la imagen\n",
    "Map = geemap.Map(center=center_location, zoom=16)\n",
    "Map.addLayer(calculate_chla_image, visParams, 'CHL-A')\n",
    "# Map.addLayer(aoi, {}, 'AOI')\n",
    "Map.add_colorbar(visParams, label=\"CHL-A\")\n",
    "Map"
   ]
  },
  {
   "cell_type": "code",
   "execution_count": 230,
   "metadata": {},
   "outputs": [
    {
     "data": {
      "text/html": [
       "\n",
       "            <style>\n",
       "                .geemap-dark {\n",
       "                    --jp-widgets-color: white;\n",
       "                    --jp-widgets-label-color: white;\n",
       "                    --jp-ui-font-color1: white;\n",
       "                    --jp-layout-color2: #454545;\n",
       "                    background-color: #383838;\n",
       "                }\n",
       "\n",
       "                .geemap-dark .jupyter-button {\n",
       "                    --jp-layout-color3: #383838;\n",
       "                }\n",
       "\n",
       "                .geemap-colab {\n",
       "                    background-color: var(--colab-primary-surface-color, white);\n",
       "                }\n",
       "\n",
       "                .geemap-colab .jupyter-button {\n",
       "                    --jp-layout-color3: var(--colab-primary-surface-color, white);\n",
       "                }\n",
       "            </style>\n",
       "            "
      ],
      "text/plain": [
       "<IPython.core.display.HTML object>"
      ]
     },
     "metadata": {},
     "output_type": "display_data"
    },
    {
     "name": "stdout",
     "output_type": "stream",
     "text": [
      "Se obtuvieron 4 imágenes del COPERNICUS\n",
      "https://earthengine.googleapis.com/v1/projects/cibravo2/videoThumbnails/2e2e9652c30ea23fdade94de6259dd30-e915d64c38a2127369fda61affa58e01:getPixels\n"
     ]
    }
   ],
   "source": [
    "centro = 'ISLOTE BONITO (ANT06-110453)'\n",
    "data = gpd.read_file('data_center.geojson').to_crs(4326)\n",
    "center = data[data['Name'] == centro]\n",
    "center_location = list(center['geometry'].get_coordinates().values[0][::-1])\n",
    "\n",
    "aoi = gpd.GeoSeries(center['geometry'].buffer(0.005)).to_crs(4326).to_json()\n",
    "aoi_bbox = ee.Geometry.Polygon(json.loads(aoi)['features'][0]['geometry']['coordinates'], 'EPSG:4326')\n",
    "\n",
    "bloom_enero, images = get_copernicus_collection(aoi_bbox, ['2022-04-01', '2022-07-01'], 20)\n",
    "chla_bloom_enero = calculate_evi(bloom_enero)\n",
    "videoArgs = {'dimensions': 512,\n",
    "             'region': aoi_bbox,\n",
    "             'framesPerSecond': 6,\n",
    "             'crs': 'EPSG:4326',\n",
    "             'min': -1,\n",
    "             'max': 1,\n",
    "             'palette': ['black', 'blue', 'purple', 'cyan', 'green', 'yellow', 'red']}\n",
    "\n",
    "print(chla_bloom_enero.getVideoThumbURL(videoArgs))"
   ]
  },
  {
   "cell_type": "code",
   "execution_count": 232,
   "metadata": {},
   "outputs": [
    {
     "data": {
      "text/html": [
       "\n",
       "            <style>\n",
       "                .geemap-dark {\n",
       "                    --jp-widgets-color: white;\n",
       "                    --jp-widgets-label-color: white;\n",
       "                    --jp-ui-font-color1: white;\n",
       "                    --jp-layout-color2: #454545;\n",
       "                    background-color: #383838;\n",
       "                }\n",
       "\n",
       "                .geemap-dark .jupyter-button {\n",
       "                    --jp-layout-color3: #383838;\n",
       "                }\n",
       "\n",
       "                .geemap-colab {\n",
       "                    background-color: var(--colab-primary-surface-color, white);\n",
       "                }\n",
       "\n",
       "                .geemap-colab .jupyter-button {\n",
       "                    --jp-layout-color3: var(--colab-primary-surface-color, white);\n",
       "                }\n",
       "            </style>\n",
       "            "
      ],
      "text/plain": [
       "<IPython.core.display.HTML object>"
      ]
     },
     "metadata": {},
     "output_type": "display_data"
    },
    {
     "name": "stdout",
     "output_type": "stream",
     "text": [
      "Se obtuvieron 41 imágenes del COPERNICUS\n",
      "https://earthengine.googleapis.com/v1/projects/cibravo2/videoThumbnails/34c83cc64079a57641297b12aaf02d07-8f71f9f6aab44f30f06045b19d5d4c4d:getPixels\n"
     ]
    }
   ],
   "source": [
    "centro = 'ISLOTE BONITO (ANT06-110453)'\n",
    "data = gpd.read_file('data_center.geojson').to_crs(4326)\n",
    "center = data[data['Name'] == centro]\n",
    "center_location = list(center['geometry'].get_coordinates().values[0][::-1])\n",
    "\n",
    "aoi = gpd.GeoSeries(center['geometry'].buffer(0.005)).to_crs(4326).to_json()\n",
    "aoi_bbox = ee.Geometry.Polygon(json.loads(aoi)['features'][0]['geometry']['coordinates'], 'EPSG:4326')\n",
    "\n",
    "bloom_enero, images = get_copernicus_collection(aoi_bbox, ['2020-03-01', '2022-04-01'], 20)\n",
    "chla_bloom_enero = calculate_evi(bloom_enero)\n",
    "videoArgs = {'dimensions': 512,\n",
    "             'region': aoi_bbox,\n",
    "             'framesPerSecond': 6,\n",
    "             'crs': 'EPSG:4326',\n",
    "             'min': -1,\n",
    "             'max': 1,\n",
    "             'palette': ['black', 'blue', 'purple', 'cyan', 'green', 'yellow', 'red']}\n",
    "\n",
    "print(chla_bloom_enero.getVideoThumbURL(videoArgs))"
   ]
  },
  {
   "cell_type": "code",
   "execution_count": null,
   "metadata": {},
   "outputs": [],
   "source": []
  }
 ],
 "metadata": {
  "kernelspec": {
   "display_name": "base",
   "language": "python",
   "name": "python3"
  },
  "language_info": {
   "codemirror_mode": {
    "name": "ipython",
    "version": 3
   },
   "file_extension": ".py",
   "mimetype": "text/x-python",
   "name": "python",
   "nbconvert_exporter": "python",
   "pygments_lexer": "ipython3",
   "version": "3.9.7"
  }
 },
 "nbformat": 4,
 "nbformat_minor": 2
}
