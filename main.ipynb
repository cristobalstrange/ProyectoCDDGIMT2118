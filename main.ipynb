{
 "cells": [
  {
   "cell_type": "code",
   "execution_count": 1,
   "metadata": {},
   "outputs": [],
   "source": [
    "import json\n",
    "import geopandas as gpd\n",
    "import pandas as pd\n",
    "import ee\n",
    "\n",
    "\n",
    "ee.Authenticate()\n",
    "ee.Initialize(project='cibravo2')"
   ]
  },
  {
   "cell_type": "code",
   "execution_count": 180,
   "metadata": {},
   "outputs": [
    {
     "data": {
      "text/html": [
       "\n",
       "            <style>\n",
       "                .geemap-dark {\n",
       "                    --jp-widgets-color: white;\n",
       "                    --jp-widgets-label-color: white;\n",
       "                    --jp-ui-font-color1: white;\n",
       "                    --jp-layout-color2: #454545;\n",
       "                    background-color: #383838;\n",
       "                }\n",
       "\n",
       "                .geemap-dark .jupyter-button {\n",
       "                    --jp-layout-color3: #383838;\n",
       "                }\n",
       "\n",
       "                .geemap-colab {\n",
       "                    background-color: var(--colab-primary-surface-color, white);\n",
       "                }\n",
       "\n",
       "                .geemap-colab .jupyter-button {\n",
       "                    --jp-layout-color3: var(--colab-primary-surface-color, white);\n",
       "                }\n",
       "            </style>\n",
       "            "
      ],
      "text/plain": [
       "<IPython.core.display.HTML object>"
      ]
     },
     "metadata": {},
     "output_type": "display_data"
    }
   ],
   "source": [
    "centro = 'ISLOTE BONITO (ANT06-110453)'\n",
    "data = gpd.read_file('data_center.geojson').to_crs(4326)\n",
    "center = data[data['Name'] == centro]\n",
    "center_location = list(center['geometry'].get_coordinates().values[0][::-1])\n",
    "\n",
    "aoi = gpd.GeoSeries(center['geometry'].buffer(0.01)).to_crs(4326).to_json()\n",
    "aoi_bbox = ee.Geometry.Polygon(json.loads(aoi)['features'][0]['geometry']['coordinates'], 'EPSG:4326')"
   ]
  },
  {
   "cell_type": "code",
   "execution_count": 207,
   "metadata": {},
   "outputs": [
    {
     "data": {
      "text/html": [
       "\n",
       "            <style>\n",
       "                .geemap-dark {\n",
       "                    --jp-widgets-color: white;\n",
       "                    --jp-widgets-label-color: white;\n",
       "                    --jp-ui-font-color1: white;\n",
       "                    --jp-layout-color2: #454545;\n",
       "                    background-color: #383838;\n",
       "                }\n",
       "\n",
       "                .geemap-dark .jupyter-button {\n",
       "                    --jp-layout-color3: #383838;\n",
       "                }\n",
       "\n",
       "                .geemap-colab {\n",
       "                    background-color: var(--colab-primary-surface-color, white);\n",
       "                }\n",
       "\n",
       "                .geemap-colab .jupyter-button {\n",
       "                    --jp-layout-color3: var(--colab-primary-surface-color, white);\n",
       "                }\n",
       "            </style>\n",
       "            "
      ],
      "text/plain": [
       "<IPython.core.display.HTML object>"
      ]
     },
     "metadata": {},
     "output_type": "display_data"
    },
    {
     "name": "stdout",
     "output_type": "stream",
     "text": [
      "Se obtuvieron 43 imágenes del COPERNICUS\n",
      "Se obtuvieron 402 imágenes del MODIS\n",
      "Se trabajará con 43 imágenes\n"
     ]
    }
   ],
   "source": [
    "def get_copernicus_collection(aoi, dates, clouds=10):\n",
    "    collection = ee.ImageCollection('COPERNICUS/S2_SR').filterBounds(aoi).filterDate(dates[0], dates[1])\n",
    "    collection = collection.filter(ee.Filter.lte('CLOUDY_PIXEL_PERCENTAGE', clouds))\n",
    "    collection = collection.map(preprocess)\n",
    "    collection = collection.sort('system:time_start', False)\n",
    "    images = collection.aggregate_array('system:id').getInfo()\n",
    "    print(f'Se obtuvieron {len(images)} imágenes del COPERNICUS')\n",
    "    return collection, images\n",
    "\n",
    "def get_modis_collection(aoi, dates, clouds=10):\n",
    "    collection = ee.ImageCollection('NASA/OCEANDATA/MODIS-Terra/L3SMI').filterBounds(aoi).filterDate(dates[0], dates[1])\n",
    "    # collection = collection.filter(ee.Filter.lte('CLOUDY_PIXEL_PERCENTAGE', clouds))\n",
    "    collection = collection.sort('system:time_start', False)\n",
    "    images = collection.aggregate_array('system:id').getInfo()\n",
    "    print(f'Se obtuvieron {len(images)} imágenes del MODIS')\n",
    "    return collection, images\n",
    "\n",
    "\n",
    "def preprocess(image):\n",
    "    ndvi = image.normalizedDifference(['B8', 'B4']).rename('NDVI')\n",
    "    optical_bands = image.select('B.').multiply(0.0001)\n",
    "    return image.addBands(ndvi).addBands(optical_bands, None, True)\n",
    "\n",
    "\n",
    "def get_dates(collection):\n",
    "    dates = collection.aggregate_array('system:time_start').getInfo()\n",
    "    dates = [pd.to_datetime(date, unit='ms') for date in dates]\n",
    "    dates = [date.strftime('%Y-%m-%d') for date in dates]\n",
    "\n",
    "    return dates\n",
    "\n",
    "dates = ['2020-12-11', '2022-12-12']\n",
    "clouds = 25\n",
    "collection_copernicus, images_copernicus = get_copernicus_collection(aoi_bbox, dates, clouds=clouds)\n",
    "collection_modis, images_modis = get_modis_collection(aoi_bbox, dates, clouds=clouds)\n",
    "\n",
    "dates_copernicus = get_dates(collection_copernicus)\n",
    "# dates_modis = get_dates(collection_modis)\n",
    "fechas = set(dates_copernicus) #& set(dates_modis)\n",
    "print(f'Se trabajará con {len(fechas)} imágenes')\n"
   ]
  },
  {
   "cell_type": "code",
   "execution_count": 219,
   "metadata": {},
   "outputs": [
    {
     "data": {
      "text/html": [
       "\n",
       "            <style>\n",
       "                .geemap-dark {\n",
       "                    --jp-widgets-color: white;\n",
       "                    --jp-widgets-label-color: white;\n",
       "                    --jp-ui-font-color1: white;\n",
       "                    --jp-layout-color2: #454545;\n",
       "                    background-color: #383838;\n",
       "                }\n",
       "\n",
       "                .geemap-dark .jupyter-button {\n",
       "                    --jp-layout-color3: #383838;\n",
       "                }\n",
       "\n",
       "                .geemap-colab {\n",
       "                    background-color: var(--colab-primary-surface-color, white);\n",
       "                }\n",
       "\n",
       "                .geemap-colab .jupyter-button {\n",
       "                    --jp-layout-color3: var(--colab-primary-surface-color, white);\n",
       "                }\n",
       "            </style>\n",
       "            "
      ],
      "text/plain": [
       "<IPython.core.display.HTML object>"
      ]
     },
     "metadata": {},
     "output_type": "display_data"
    },
    {
     "data": {
      "text/plain": [
       "'2022-11-04'"
      ]
     },
     "execution_count": 219,
     "metadata": {},
     "output_type": "execute_result"
    }
   ],
   "source": [
    "pd.to_datetime(ee.Image(images_copernicus[0]).get('system:time_start').getInfo(), unit='ms').strftime('%Y-%m-%d')"
   ]
  },
  {
   "cell_type": "code",
   "execution_count": 182,
   "metadata": {},
   "outputs": [
    {
     "data": {
      "text/html": [
       "\n",
       "            <style>\n",
       "                .geemap-dark {\n",
       "                    --jp-widgets-color: white;\n",
       "                    --jp-widgets-label-color: white;\n",
       "                    --jp-ui-font-color1: white;\n",
       "                    --jp-layout-color2: #454545;\n",
       "                    background-color: #383838;\n",
       "                }\n",
       "\n",
       "                .geemap-dark .jupyter-button {\n",
       "                    --jp-layout-color3: #383838;\n",
       "                }\n",
       "\n",
       "                .geemap-colab {\n",
       "                    background-color: var(--colab-primary-surface-color, white);\n",
       "                }\n",
       "\n",
       "                .geemap-colab .jupyter-button {\n",
       "                    --jp-layout-color3: var(--colab-primary-surface-color, white);\n",
       "                }\n",
       "            </style>\n",
       "            "
      ],
      "text/plain": [
       "<IPython.core.display.HTML object>"
      ]
     },
     "metadata": {},
     "output_type": "display_data"
    },
    {
     "data": {
      "application/vnd.jupyter.widget-view+json": {
       "model_id": "b909fe03498242fba817263f4d287244",
       "version_major": 2,
       "version_minor": 0
      },
      "text/plain": [
       "Map(center=[-45.2985822220971, -73.23471854601745], controls=(WidgetControl(options=['position', 'transparent_…"
      ]
     },
     "execution_count": 182,
     "metadata": {},
     "output_type": "execute_result"
    }
   ],
   "source": [
    "import geemap\n",
    "\n",
    "image_copernicus = collection_copernicus.median()\n",
    "image_copernicus = image_copernicus.clip(aoi_bbox) \n",
    "\n",
    "image_modis = collection_modis.median()\n",
    "image_modis = image_modis#.clip(aoi_bbox) \n",
    "\n",
    "# -73.50121 -45.37232\n",
    "Map = geemap.Map(center=center_location, zoom=16)\n",
    "Map.addLayer(aoi_bbox)\n",
    "\n",
    "imageRGB = image_copernicus.visualize(**{'bands': ['TCI_R', 'TCI_G', 'TCI_B'],'min':0, 'max': 100})\n",
    "Map.addLayer(imageRGB, {}, 'RGB', True)\n",
    "\n",
    "imageModis = image_modis.visualize(**{'bands': ['chlor_a',],'min':0, 'max': 100})\n",
    "Map.addLayer(imageModis, {}, 'modis', True)\n",
    "\n",
    "Map"
   ]
  },
  {
   "cell_type": "markdown",
   "metadata": {},
   "source": [
    "## Data mining"
   ]
  },
  {
   "cell_type": "code",
   "execution_count": 196,
   "metadata": {},
   "outputs": [
    {
     "data": {
      "text/html": [
       "\n",
       "            <style>\n",
       "                .geemap-dark {\n",
       "                    --jp-widgets-color: white;\n",
       "                    --jp-widgets-label-color: white;\n",
       "                    --jp-ui-font-color1: white;\n",
       "                    --jp-layout-color2: #454545;\n",
       "                    background-color: #383838;\n",
       "                }\n",
       "\n",
       "                .geemap-dark .jupyter-button {\n",
       "                    --jp-layout-color3: #383838;\n",
       "                }\n",
       "\n",
       "                .geemap-colab {\n",
       "                    background-color: var(--colab-primary-surface-color, white);\n",
       "                }\n",
       "\n",
       "                .geemap-colab .jupyter-button {\n",
       "                    --jp-layout-color3: var(--colab-primary-surface-color, white);\n",
       "                }\n",
       "            </style>\n",
       "            "
      ],
      "text/plain": [
       "<IPython.core.display.HTML object>"
      ]
     },
     "metadata": {},
     "output_type": "display_data"
    }
   ],
   "source": [
    "# Enhanced vegetation index (EVI)\n",
    "def calculate_evi_image(image):\n",
    "    evi_image = image.expression(\n",
    "        '(2.5 * (NIR - RED)) / (NIR + 6 * RED - 7.5 * BLUE + 1)',\n",
    "        {\n",
    "            'NIR': image.select('B8'),\n",
    "            'RED': image.select('B4'),\n",
    "            'BLUE': image.select('B2')\n",
    "        }\n",
    "    )\n",
    "    return evi_image\n",
    "\n",
    "# Normalized Ratio Vegetation Index (NRVI)\n",
    "def calculate_nrvi_image(image):\n",
    "    nrvi_image = image.expression(\n",
    "        '(RED/NIR - 1) / (RED/NIR + 1)',\n",
    "        {\n",
    "            'NIR': image.select('B8'),\n",
    "            'RED': image.select('B4')\n",
    "        }\n",
    "    )\n",
    "    return nrvi_image\n",
    "\n",
    "# Normalized Difference Water Index (NDWI)\n",
    "def calculate_ndwi_image(image):\n",
    "    ndwi_image = image.expression(\n",
    "        '(GREEN - NIR) / (GREEN + NIR)',\n",
    "        {\n",
    "            'NIR': image.select('B8'),\n",
    "            'GREEN': image.select('B3')\n",
    "        }\n",
    "    )\n",
    "    return ndwi_image\n",
    "\n",
    "# Normalized Difference Water Index (NDWI2) ndvi_2 es un typo\n",
    "def calculate_ndvi2_image(image):\n",
    "    ndvi2_image = image.expression(\n",
    "        '(NIR - SWIR2) / (NIR + SWIR2)',\n",
    "        {\n",
    "            'NIR': image.select('B8'),\n",
    "            'SWIR2': image.select('B12')\n",
    "        }\n",
    "    )\n",
    "    return ndvi2_image\n",
    "\n",
    "# Modified Normalized Difference Water Index (MNDWI)\n",
    "def calculate_mndwi_image(image):\n",
    "    mndwi_image = image.expression(\n",
    "        '(GREEN - SWIR2) / (GREEN + SWIR2)',\n",
    "        {\n",
    "            'GREEN': image.select('B3'),\n",
    "            'SWIR2': image.select('B12')\n",
    "        }\n",
    "    )\n",
    "    return mndwi_image\n",
    "\n",
    "# Green Normalized Difference Vegetation Index\n",
    "def calculate_gndvi_image(image):\n",
    "    gndvi = image.expression(\n",
    "        '(NIR - GREEN) / (NIR + GREEN)',\n",
    "        {\n",
    "            'NIR': image.select('B8'),\n",
    "            'GREEN': image.select('B3')\n",
    "        }\n",
    "    )\n",
    "    return gndvi\n",
    "    \n",
    "# Normalized Difference Vegetation Index\n",
    "def calculate_ndvi_image(image):\n",
    "    ndvi = image.expression(\n",
    "        '(NIR - RED) / (NIR + RED)',\n",
    "        {\n",
    "            'NIR': image.select('B8'),\n",
    "            'RED': image.select('B4')\n",
    "        }\n",
    "    )\n",
    "    return ndvi\n"
   ]
  },
  {
   "cell_type": "code",
   "execution_count": 17,
   "metadata": {},
   "outputs": [
    {
     "data": {
      "text/html": [
       "\n",
       "            <style>\n",
       "                .geemap-dark {\n",
       "                    --jp-widgets-color: white;\n",
       "                    --jp-widgets-label-color: white;\n",
       "                    --jp-ui-font-color1: white;\n",
       "                    --jp-layout-color2: #454545;\n",
       "                    background-color: #383838;\n",
       "                }\n",
       "\n",
       "                .geemap-dark .jupyter-button {\n",
       "                    --jp-layout-color3: #383838;\n",
       "                }\n",
       "\n",
       "                .geemap-colab {\n",
       "                    background-color: var(--colab-primary-surface-color, white);\n",
       "                }\n",
       "\n",
       "                .geemap-colab .jupyter-button {\n",
       "                    --jp-layout-color3: var(--colab-primary-surface-color, white);\n",
       "                }\n",
       "            </style>\n",
       "            "
      ],
      "text/plain": [
       "<IPython.core.display.HTML object>"
      ]
     },
     "metadata": {},
     "output_type": "display_data"
    }
   ],
   "source": [
    "# # Enhanced vegetation index (EVI)\n",
    "# def calculate_evi(collection_images):\n",
    "#     evi_collection = collection_images.map(lambda image: image.expression(\n",
    "#         '(2.5 * (NIR - RED)) / (NIR + 6 * RED - 7.5 * BLUE + 1)',\n",
    "#         {\n",
    "#             'NIR': image.select('B8'),\n",
    "#             'RED': image.select('B4'),\n",
    "#             'BLUE': image.select('B2')\n",
    "#         }\n",
    "#     ))\n",
    "\n",
    "#     return evi_collection\n",
    "\n",
    "# # Normalized Ratio Vegetation Index (NRVI)\n",
    "# def calculate_nrvi(collection_images):\n",
    "#     nrvi_collection = collection_images.map(lambda image: image.expression(\n",
    "#         '(RED/NIR - 1) / (RED/NIR + 1)',\n",
    "#         {\n",
    "#             'NIR': image.select('B8'),\n",
    "#             'RED': image.select('B4')\n",
    "#         }\n",
    "#     ))\n",
    "\n",
    "#     return nrvi_collection\n",
    "\n",
    "# # Normalized Difference Water Index (NDWI)\n",
    "# def calculate_ndwi(collection_images):\n",
    "#     ndwi_collection = collection_images.map(lambda image: image.expression(\n",
    "#         '(GREEN - NIR) / (GREEN + NIR)',\n",
    "#         {\n",
    "#             'NIR': image.select('B8'),\n",
    "#             'GREEN': image.select('B3')\n",
    "#         }\n",
    "#     ))\n",
    "\n",
    "#     return ndwi_collection\n",
    "\n",
    "# # Normalized Difference Water Index (NDWI2) ndvi_2 es un typo\n",
    "# def calculate_ndvi2(collection_images):\n",
    "#     ndvi2_collection = collection_images.map(lambda image: image.expression(\n",
    "#         '(NIR - SWIR2) / (NIR + SWIR2)',\n",
    "#         {\n",
    "#             'NIR': image.select('B8'),\n",
    "#             'SWIR2': image.select('B12')\n",
    "#         }\n",
    "#     ))\n",
    "\n",
    "#     return ndvi2_collection\n",
    "\n",
    "# # Modified Normalized Difference Water Index (MNDWI)\n",
    "# def calculate_mndwi(collection_images):\n",
    "#     mndwi_collection = collection_images.map(lambda image: image.expression(\n",
    "#         '(GREEN - SWIR2) / (GREEN + SWIR2)',\n",
    "#         {\n",
    "#             'GREEN': image.select('B3'),\n",
    "#             'SWIR2': image.select('B12')\n",
    "#         }\n",
    "#     ))\n",
    "\n",
    "#     return mndwi_collection\n",
    "\n",
    "# # Green Normalized Difference Vegetation Index\n",
    "# def calculate_gndvi(collection_images):\n",
    "#     gndvi_collection = collection_images.map(lambda image: image.expression(\n",
    "#         '(NIR - GREEN) / (NIR + GREEN)',\n",
    "#         {\n",
    "#             'NIR': image.select('B8'),\n",
    "#             'GREEN': image.select('B3')\n",
    "#         }\n",
    "#     ))\n",
    "\n",
    "#     return gndvi_collection\n",
    "\n",
    "# # Normalized Difference Vegetation Index\n",
    "# def calculate_ndvi(collection_images):\n",
    "#     ndvi_collection = collection_images.map(lambda image: image.expression(\n",
    "#         '(NIR - RED) / (NIR + RED)',\n",
    "#         {\n",
    "#             'NIR': image.select('B8'),\n",
    "#             'RED': image.select('B4')\n",
    "#         }\n",
    "#     ))\n",
    "\n",
    "#     return ndvi_collection\n",
    "\n",
    "# # Indices de bandas\n",
    "\n",
    "# def calculate_b3b1(collection_images):\n",
    "#     b3b1_collection = collection_images.map(lambda image: image.expression(\n",
    "#         'GREEN / AEROSOLS',\n",
    "#         {\n",
    "#             'GREEN': image.select('B3'),\n",
    "#             'AEROSOLS': image.select('B1')\n",
    "#         }\n",
    "#     ))\n",
    "\n",
    "#     return b3b1_collection\n",
    "\n",
    "\n",
    "# def calculate_b3b2(collection_images):\n",
    "#     b3b2_collection = collection_images.map(lambda image: image.expression(\n",
    "#         'GREEN / BLUE',\n",
    "#         {\n",
    "#             'GREEN': image.select('B3'),\n",
    "#             'BLUE': image.select('B2')\n",
    "#         }\n",
    "#     ))\n",
    "\n",
    "#     return b3b2_collection\n",
    "\n",
    "# def calculate_b3b4(collection_images):\n",
    "#     b3b4_collection = collection_images.map(lambda image: image.expression(\n",
    "#         'GREEN / RED',\n",
    "#         {\n",
    "#             'GREEN': image.select('B3'),\n",
    "#             'RED': image.select('B4')\n",
    "#         }\n",
    "#     ))\n",
    "\n",
    "#     return b3b4_collection\n",
    "\n",
    "# def calculate_b5b4(collection_images):\n",
    "#     b5b4_collection = collection_images.map(lambda image: image.expression(\n",
    "#         'RED_EDGE_1 / RED',\n",
    "#         {\n",
    "#             'RED_EDGE_1': image.select('B5'),\n",
    "#             'RED': image.select('B4')\n",
    "#         }\n",
    "#     ))\n",
    "\n",
    "#     return b5b4_collection\n",
    "\n",
    "# def calculate_b6b4(collection_images):\n",
    "#     b6b4_collection = collection_images.map(lambda image: image.expression(\n",
    "#         'RED_EDGE_2 / RED',\n",
    "#         {\n",
    "#             'RED_EDGE_2': image.select('B6'),\n",
    "#             'RED': image.select('B4')\n",
    "#         }\n",
    "#     ))\n",
    "\n",
    "#     return b6b4_collection\n",
    "\n",
    "# def calculate_b7b4(collection_images):\n",
    "#     b7b4_collection = collection_images.map(lambda image: image.expression(\n",
    "#         'RED_EDGE_3 / RED',\n",
    "#         {\n",
    "#             'RED_EDGE_3': image.select('B7'),\n",
    "#             'RED': image.select('B4')\n",
    "#         }\n",
    "#     ))\n",
    "\n",
    "#     return b7b4_collection\n",
    "\n",
    "# def calculate_b8ab4(collection_images):\n",
    "#     b8ab4_collection = collection_images.map(lambda image: image.expression(\n",
    "#         'NIR / RED',\n",
    "#         {\n",
    "#             'NIR': image.select('B8A'),\n",
    "#             'RED': image.select('B4')\n",
    "#         }\n",
    "#     ))\n",
    "\n",
    "#     return b8ab4_collection\n",
    "\n",
    "# def calculate_b8b4(collection_images):\n",
    "#     b8b4_collection = collection_images.map(lambda image: image.expression(\n",
    "#         'NIR / RED',\n",
    "#         {\n",
    "#             'NIR': image.select('B8'),\n",
    "#             'RED': image.select('B4')\n",
    "#         }\n",
    "#     ))\n",
    "\n",
    "#     return b8b4_collection\n",
    "\n",
    "# def calculate_oc2(collection_images):\n",
    "#     oc2_collection = collection_images.map(lambda image: image.expression(\n",
    "#         '10 ** (0.319 - 2.336 * R_2 + 0.879 * (R_2**2) - 0.135 * (R_2**3)) - 0.071',\n",
    "#         {\n",
    "#             'R_2': ee.Image(image.select('B2')).divide(image.select('B3')).log10()\n",
    "#         }\n",
    "#     ))\n",
    "    \n",
    "#     return oc2_collection\n",
    "\n",
    "# def calculate_oc4(collection_images):\n",
    "#     oc4_collection = collection_images.map(lambda image: image.expression(\n",
    "#         '10 ** (0.366 - 3.067 * R_4 + 1.930 * (R_4**2) + 0.649 * (R_4**3) - 1.532 * (R_4**4))',\n",
    "#         {\n",
    "#             'R_4': image.select(['B1', 'B2']).reduce(ee.Reducer.max()).divide(image.select('B3')).log10()\n",
    "#         }\n",
    "#     ))\n",
    "    \n",
    "#     return oc4_collection"
   ]
  },
  {
   "cell_type": "code",
   "execution_count": 247,
   "metadata": {},
   "outputs": [
    {
     "data": {
      "text/html": [
       "\n",
       "            <style>\n",
       "                .geemap-dark {\n",
       "                    --jp-widgets-color: white;\n",
       "                    --jp-widgets-label-color: white;\n",
       "                    --jp-ui-font-color1: white;\n",
       "                    --jp-layout-color2: #454545;\n",
       "                    background-color: #383838;\n",
       "                }\n",
       "\n",
       "                .geemap-dark .jupyter-button {\n",
       "                    --jp-layout-color3: #383838;\n",
       "                }\n",
       "\n",
       "                .geemap-colab {\n",
       "                    background-color: var(--colab-primary-surface-color, white);\n",
       "                }\n",
       "\n",
       "                .geemap-colab .jupyter-button {\n",
       "                    --jp-layout-color3: var(--colab-primary-surface-color, white);\n",
       "                }\n",
       "            </style>\n",
       "            "
      ],
      "text/plain": [
       "<IPython.core.display.HTML object>"
      ]
     },
     "metadata": {},
     "output_type": "display_data"
    }
   ],
   "source": [
    "import os\n",
    "from tqdm import tqdm\n",
    "\n",
    "def metric_a_center(center_name, dates):\n",
    "    data = gpd.read_file('data_center.geojson').to_crs(4326)\n",
    "    center = data[data['Name'] == center_name]\n",
    "    # center_location = list(center['geometry'].get_coordinates().values[0][::-1])\n",
    "    aoi = gpd.GeoSeries(center['geometry'].buffer(0.005)).to_crs(4326).to_json()\n",
    "    aoi_bbox = ee.Geometry.Polygon(json.loads(aoi)['features'][0]['geometry']['coordinates'], 'EPSG:4326')\n",
    "    clouds = 10\n",
    "    collection_copernicus, images_copernicus = get_copernicus_collection(aoi_bbox, dates, clouds=clouds)\n",
    "    images_copernicus = list(reversed(images_copernicus))\n",
    "\n",
    "    metrics = {\n",
    "        'time':[],\n",
    "        'evi':[], \n",
    "        'nrvi':[], \n",
    "        'ndwi':[], \n",
    "        'gndvi':[], \n",
    "        'ndvi':[], \n",
    "        'mndwi':[], \n",
    "        'ndvi2':[], \n",
    "    }\n",
    "\n",
    "    for image in tqdm(images_copernicus):\n",
    "        evi = calculate_evi_image(ee.Image(image)).clip(aoi_bbox)\n",
    "        nrvi = calculate_nrvi_image(ee.Image(image)).clip(aoi_bbox)\n",
    "        ndwi = calculate_ndwi_image(ee.Image(image)).clip(aoi_bbox)\n",
    "        gndvi = calculate_gndvi_image(ee.Image(image)).clip(aoi_bbox)\n",
    "        ndvi = calculate_ndvi_image(ee.Image(image)).clip(aoi_bbox)\n",
    "        mndwi = calculate_mndwi_image(ee.Image(image)).clip(aoi_bbox)\n",
    "        ndvi2 = calculate_ndvi2_image(ee.Image(image)).clip(aoi_bbox)\n",
    "\n",
    "        metrics['time'].append(pd.to_datetime(ee.Image(image).get('system:time_start').getInfo(), unit='ms').strftime('%Y-%m-%d'))\n",
    "        metrics['evi'].append(evi.reduceRegion(reducer=ee.Reducer.mean(), geometry=aoi_bbox, crs='EPSG:4326', scale=10).getInfo()['constant'])\n",
    "        metrics['nrvi'].append(nrvi.reduceRegion(reducer=ee.Reducer.mean(), geometry=aoi_bbox, crs='EPSG:4326', scale=10).getInfo()['B4'])\n",
    "        metrics['ndwi'].append(ndwi.reduceRegion(reducer=ee.Reducer.mean(), geometry=aoi_bbox, crs='EPSG:4326', scale=10).getInfo()['B3'])\n",
    "        metrics['gndvi'].append(gndvi.reduceRegion(reducer=ee.Reducer.mean(), geometry=aoi_bbox, crs='EPSG:4326', scale=10).getInfo()['B8'])\n",
    "        metrics['ndvi'].append(ndvi.reduceRegion(reducer=ee.Reducer.mean(), geometry=aoi_bbox, crs='EPSG:4326', scale=10).getInfo()['B8'])\n",
    "        metrics['mndwi'].append(mndwi.reduceRegion(reducer=ee.Reducer.mean(), geometry=aoi_bbox, crs='EPSG:4326', scale=20).getInfo()['B3'])\n",
    "        metrics['ndvi2'].append(ndvi2.reduceRegion(reducer=ee.Reducer.mean(), geometry=aoi_bbox, crs='EPSG:4326', scale=20).getInfo()['B8'])\n",
    "\n",
    "    metrics = pd.DataFrame.from_dict(metrics)\n",
    "    metrics.to_csv(f'metrics/{center_name}.csv', index=False)"
   ]
  },
  {
   "cell_type": "code",
   "execution_count": 248,
   "metadata": {},
   "outputs": [
    {
     "data": {
      "text/html": [
       "\n",
       "            <style>\n",
       "                .geemap-dark {\n",
       "                    --jp-widgets-color: white;\n",
       "                    --jp-widgets-label-color: white;\n",
       "                    --jp-ui-font-color1: white;\n",
       "                    --jp-layout-color2: #454545;\n",
       "                    background-color: #383838;\n",
       "                }\n",
       "\n",
       "                .geemap-dark .jupyter-button {\n",
       "                    --jp-layout-color3: #383838;\n",
       "                }\n",
       "\n",
       "                .geemap-colab {\n",
       "                    background-color: var(--colab-primary-surface-color, white);\n",
       "                }\n",
       "\n",
       "                .geemap-colab .jupyter-button {\n",
       "                    --jp-layout-color3: var(--colab-primary-surface-color, white);\n",
       "                }\n",
       "            </style>\n",
       "            "
      ],
      "text/plain": [
       "<IPython.core.display.HTML object>"
      ]
     },
     "metadata": {},
     "output_type": "display_data"
    },
    {
     "name": "stdout",
     "output_type": "stream",
     "text": [
      "Centro: BARQUILLO (MEF03-101296)\n",
      "Se obtuvieron 205 imágenes del COPERNICUS\n"
     ]
    },
    {
     "name": "stderr",
     "output_type": "stream",
     "text": [
      "100%|██████████| 205/205 [10:37<00:00,  3.11s/it]\n"
     ]
    },
    {
     "name": "stdout",
     "output_type": "stream",
     "text": [
      "Centro: BOLADOS (MEF04-110454)\n",
      "Se obtuvieron 41 imágenes del COPERNICUS\n"
     ]
    },
    {
     "name": "stderr",
     "output_type": "stream",
     "text": [
      "100%|██████████| 41/41 [01:53<00:00,  2.78s/it]\n"
     ]
    },
    {
     "name": "stdout",
     "output_type": "stream",
     "text": [
      "Centro: CONCOTO (EA48 - 110466)\n",
      "Se obtuvieron 106 imágenes del COPERNICUS\n"
     ]
    },
    {
     "name": "stderr",
     "output_type": "stream",
     "text": [
      "100%|██████████| 106/106 [04:49<00:00,  2.73s/it]\n"
     ]
    },
    {
     "name": "stdout",
     "output_type": "stream",
     "text": [
      "Centro: CANAL PEREZ NORTE (EA41 - 110523)\n",
      "Se obtuvieron 106 imágenes del COPERNICUS\n"
     ]
    },
    {
     "name": "stderr",
     "output_type": "stream",
     "text": [
      "100%|██████████| 106/106 [04:45<00:00,  2.69s/it]\n"
     ]
    },
    {
     "name": "stdout",
     "output_type": "stream",
     "text": [
      "Centro: ELENA (EA40 - 110510)\n",
      "Se obtuvieron 186 imágenes del COPERNICUS\n"
     ]
    },
    {
     "name": "stderr",
     "output_type": "stream",
     "text": [
      " 83%|████████▎ | 155/186 [06:45<01:31,  2.95s/it]"
     ]
    }
   ],
   "source": [
    "data = gpd.read_file('data_center.geojson').to_crs(4326)\n",
    "for center in data['Name']:\n",
    "    print(f'Centro: {center}')\n",
    "    dates = ['2018-01-01', '2024-07-07']\n",
    "    metric_a_center(center, dates)"
   ]
  },
  {
   "cell_type": "markdown",
   "metadata": {},
   "source": [
    "## Análisis"
   ]
  },
  {
   "cell_type": "code",
   "execution_count": 33,
   "metadata": {},
   "outputs": [
    {
     "data": {
      "text/html": [
       "\n",
       "            <style>\n",
       "                .geemap-dark {\n",
       "                    --jp-widgets-color: white;\n",
       "                    --jp-widgets-label-color: white;\n",
       "                    --jp-ui-font-color1: white;\n",
       "                    --jp-layout-color2: #454545;\n",
       "                    background-color: #383838;\n",
       "                }\n",
       "\n",
       "                .geemap-dark .jupyter-button {\n",
       "                    --jp-layout-color3: #383838;\n",
       "                }\n",
       "\n",
       "                .geemap-colab {\n",
       "                    background-color: var(--colab-primary-surface-color, white);\n",
       "                }\n",
       "\n",
       "                .geemap-colab .jupyter-button {\n",
       "                    --jp-layout-color3: var(--colab-primary-surface-color, white);\n",
       "                }\n",
       "            </style>\n",
       "            "
      ],
      "text/plain": [
       "<IPython.core.display.HTML object>"
      ]
     },
     "metadata": {},
     "output_type": "display_data"
    },
    {
     "data": {
      "image/png": "[encoded data removed]",
      "text/plain": [
       "<Figure size 432x288 with 1 Axes>"
      ]
     },
     "metadata": {
      "needs_background": "light"
     },
     "output_type": "display_data"
    }
   ],
   "source": [
    "import seaborn as sns\n",
    "import matplotlib.pyplot as plt\n",
    "\n",
    "center = 'BARQUILLO (MEF03-101296)'\n",
    "metrics = pd.read_csv(f'metrics/{center}.csv')\n",
    "sns.boxplot(x=metrics['ndvi'])\n",
    "plt.show()"
   ]
  },
  {
   "cell_type": "code",
   "execution_count": null,
   "metadata": {},
   "outputs": [],
   "source": [
    "# !pip install rpy2\n",
    "%load_ext rpy2.ipython"
   ]
  },
  {
   "cell_type": "code",
   "execution_count": null,
   "metadata": {},
   "outputs": [],
   "source": [
    "%%R\n",
    "Base_LF = rio::import(\"metrics/BARQUILLO (MEF03-101296).csv\")\n",
    "ts.plot(Base_LF$evi)\n"
   ]
  },
  {
   "cell_type": "markdown",
   "metadata": {},
   "source": [
    "## Animations"
   ]
  },
  {
   "cell_type": "code",
   "execution_count": 158,
   "metadata": {},
   "outputs": [
    {
     "data": {
      "text/html": [
       "\n",
       "            <style>\n",
       "                .geemap-dark {\n",
       "                    --jp-widgets-color: white;\n",
       "                    --jp-widgets-label-color: white;\n",
       "                    --jp-ui-font-color1: white;\n",
       "                    --jp-layout-color2: #454545;\n",
       "                    background-color: #383838;\n",
       "                }\n",
       "\n",
       "                .geemap-dark .jupyter-button {\n",
       "                    --jp-layout-color3: #383838;\n",
       "                }\n",
       "\n",
       "                .geemap-colab {\n",
       "                    background-color: var(--colab-primary-surface-color, white);\n",
       "                }\n",
       "\n",
       "                .geemap-colab .jupyter-button {\n",
       "                    --jp-layout-color3: var(--colab-primary-surface-color, white);\n",
       "                }\n",
       "            </style>\n",
       "            "
      ],
      "text/plain": [
       "<IPython.core.display.HTML object>"
      ]
     },
     "metadata": {},
     "output_type": "display_data"
    }
   ],
   "source": [
    "def calculate_chla(collection_images):\n",
    "    chla_collection = collection_images.map(lambda image: image.expression(\n",
    "        'ndvi',\n",
    "        {\n",
    "            'gndvi': calculate_gndvi_image(image),\n",
    "            'ndvi': calculate_ndvi_image(image)\n",
    "        }\n",
    "    ))\n",
    "    return chla_collection\n",
    "\n",
    "\n",
    "def calculate_gndvi_image(image):\n",
    "    gndvi = image.expression(\n",
    "        '(NIR - GREEN) / (NIR + GREEN)',\n",
    "        {\n",
    "            'NIR': image.select('B8'),\n",
    "            'GREEN': image.select('B3')\n",
    "        }\n",
    "    )\n",
    "    return gndvi\n",
    "    \n",
    "def calculate_ndvi_image(image):\n",
    "    ndvi = image.expression(\n",
    "        '(NIR - RED) / (NIR + RED)',\n",
    "        {\n",
    "            'NIR': image.select('B8'),\n",
    "            'RED': image.select('B4')\n",
    "        }\n",
    "    )\n",
    "    return ndvi\n",
    "\n"
   ]
  },
  {
   "cell_type": "code",
   "execution_count": 188,
   "metadata": {},
   "outputs": [
    {
     "data": {
      "text/html": [
       "\n",
       "            <style>\n",
       "                .geemap-dark {\n",
       "                    --jp-widgets-color: white;\n",
       "                    --jp-widgets-label-color: white;\n",
       "                    --jp-ui-font-color1: white;\n",
       "                    --jp-layout-color2: #454545;\n",
       "                    background-color: #383838;\n",
       "                }\n",
       "\n",
       "                .geemap-dark .jupyter-button {\n",
       "                    --jp-layout-color3: #383838;\n",
       "                }\n",
       "\n",
       "                .geemap-colab {\n",
       "                    background-color: var(--colab-primary-surface-color, white);\n",
       "                }\n",
       "\n",
       "                .geemap-colab .jupyter-button {\n",
       "                    --jp-layout-color3: var(--colab-primary-surface-color, white);\n",
       "                }\n",
       "            </style>\n",
       "            "
      ],
      "text/plain": [
       "<IPython.core.display.HTML object>"
      ]
     },
     "metadata": {},
     "output_type": "display_data"
    },
    {
     "data": {
      "application/vnd.jupyter.widget-view+json": {
       "model_id": "0a836fdb52b14b8aaf284e46826b7a95",
       "version_major": 2,
       "version_minor": 0
      },
      "text/plain": [
       "Map(center=[-45.2985822220971, -73.23471854601745], controls=(WidgetControl(options=['position', 'transparent_…"
      ]
     },
     "execution_count": 188,
     "metadata": {},
     "output_type": "execute_result"
    }
   ],
   "source": [
    "fecha = '2022-04-01'\n",
    "\n",
    "dayOfInterest = ee.Date(fecha)\n",
    "\n",
    "sentinel2_collection = ee.ImageCollection('COPERNICUS/S2_SR')\\\n",
    ".filterDate(dayOfInterest, dayOfInterest.advance(10, 'day'))\\\n",
    ".filterBounds(aoi_bbox)\n",
    "\n",
    "calculate_chla_image = calculate_evi(sentinel2_collection).mean().clip(aoi_bbox)\n",
    "\n",
    "# Parámetros de visualización\n",
    "visParams = {\n",
    "    'min': -1,\n",
    "    'max': 1,\n",
    "    'palette': ['black', 'blue', 'purple', 'cyan', 'green', 'yellow', 'red']   \n",
    "}\n",
    "\n",
    "# Visualización de la imagen\n",
    "Map = geemap.Map(center=center_location, zoom=16)\n",
    "Map.addLayer(calculate_chla_image, visParams, 'CHL-A')\n",
    "# Map.addLayer(aoi, {}, 'AOI')\n",
    "Map.add_colorbar(visParams, label=\"CHL-A\")\n",
    "Map"
   ]
  },
  {
   "cell_type": "code",
   "execution_count": 230,
   "metadata": {},
   "outputs": [
    {
     "data": {
      "text/html": [
       "\n",
       "            <style>\n",
       "                .geemap-dark {\n",
       "                    --jp-widgets-color: white;\n",
       "                    --jp-widgets-label-color: white;\n",
       "                    --jp-ui-font-color1: white;\n",
       "                    --jp-layout-color2: #454545;\n",
       "                    background-color: #383838;\n",
       "                }\n",
       "\n",
       "                .geemap-dark .jupyter-button {\n",
       "                    --jp-layout-color3: #383838;\n",
       "                }\n",
       "\n",
       "                .geemap-colab {\n",
       "                    background-color: var(--colab-primary-surface-color, white);\n",
       "                }\n",
       "\n",
       "                .geemap-colab .jupyter-button {\n",
       "                    --jp-layout-color3: var(--colab-primary-surface-color, white);\n",
       "                }\n",
       "            </style>\n",
       "            "
      ],
      "text/plain": [
       "<IPython.core.display.HTML object>"
      ]
     },
     "metadata": {},
     "output_type": "display_data"
    },
    {
     "name": "stdout",
     "output_type": "stream",
     "text": [
      "Se obtuvieron 4 imágenes del COPERNICUS\n",
      "https://earthengine.googleapis.com/v1/projects/cibravo2/videoThumbnails/2e2e9652c30ea23fdade94de6259dd30-e915d64c38a2127369fda61affa58e01:getPixels\n"
     ]
    }
   ],
   "source": [
    "centro = 'ISLOTE BONITO (ANT06-110453)'\n",
    "data = gpd.read_file('data_center.geojson').to_crs(4326)\n",
    "center = data[data['Name'] == centro]\n",
    "center_location = list(center['geometry'].get_coordinates().values[0][::-1])\n",
    "\n",
    "aoi = gpd.GeoSeries(center['geometry'].buffer(0.005)).to_crs(4326).to_json()\n",
    "aoi_bbox = ee.Geometry.Polygon(json.loads(aoi)['features'][0]['geometry']['coordinates'], 'EPSG:4326')\n",
    "\n",
    "bloom_enero, images = get_copernicus_collection(aoi_bbox, ['2022-04-01', '2022-07-01'], 20)\n",
    "chla_bloom_enero = calculate_evi(bloom_enero)\n",
    "videoArgs = {'dimensions': 512,\n",
    "             'region': aoi_bbox,\n",
    "             'framesPerSecond': 6,\n",
    "             'crs': 'EPSG:4326',\n",
    "             'min': -1,\n",
    "             'max': 1,\n",
    "             'palette': ['black', 'blue', 'purple', 'cyan', 'green', 'yellow', 'red']}\n",
    "\n",
    "print(chla_bloom_enero.getVideoThumbURL(videoArgs))"
   ]
  },
  {
   "cell_type": "code",
   "execution_count": 232,
   "metadata": {},
   "outputs": [
    {
     "data": {
      "text/html": [
       "\n",
       "            <style>\n",
       "                .geemap-dark {\n",
       "                    --jp-widgets-color: white;\n",
       "                    --jp-widgets-label-color: white;\n",
       "                    --jp-ui-font-color1: white;\n",
       "                    --jp-layout-color2: #454545;\n",
       "                    background-color: #383838;\n",
       "                }\n",
       "\n",
       "                .geemap-dark .jupyter-button {\n",
       "                    --jp-layout-color3: #383838;\n",
       "                }\n",
       "\n",
       "                .geemap-colab {\n",
       "                    background-color: var(--colab-primary-surface-color, white);\n",
       "                }\n",
       "\n",
       "                .geemap-colab .jupyter-button {\n",
       "                    --jp-layout-color3: var(--colab-primary-surface-color, white);\n",
       "                }\n",
       "            </style>\n",
       "            "
      ],
      "text/plain": [
       "<IPython.core.display.HTML object>"
      ]
     },
     "metadata": {},
     "output_type": "display_data"
    },
    {
     "name": "stdout",
     "output_type": "stream",
     "text": [
      "Se obtuvieron 41 imágenes del COPERNICUS\n",
      "https://earthengine.googleapis.com/v1/projects/cibravo2/videoThumbnails/34c83cc64079a57641297b12aaf02d07-8f71f9f6aab44f30f06045b19d5d4c4d:getPixels\n"
     ]
    }
   ],
   "source": [
    "centro = 'ISLOTE BONITO (ANT06-110453)'\n",
    "data = gpd.read_file('data_center.geojson').to_crs(4326)\n",
    "center = data[data['Name'] == centro]\n",
    "center_location = list(center['geometry'].get_coordinates().values[0][::-1])\n",
    "\n",
    "aoi = gpd.GeoSeries(center['geometry'].buffer(0.005)).to_crs(4326).to_json()\n",
    "aoi_bbox = ee.Geometry.Polygon(json.loads(aoi)['features'][0]['geometry']['coordinates'], 'EPSG:4326')\n",
    "\n",
    "bloom_enero, images = get_copernicus_collection(aoi_bbox, ['2020-03-01', '2022-04-01'], 20)\n",
    "chla_bloom_enero = calculate_evi(bloom_enero)\n",
    "videoArgs = {'dimensions': 512,\n",
    "             'region': aoi_bbox,\n",
    "             'framesPerSecond': 6,\n",
    "             'crs': 'EPSG:4326',\n",
    "             'min': -1,\n",
    "             'max': 1,\n",
    "             'palette': ['black', 'blue', 'purple', 'cyan', 'green', 'yellow', 'red']}\n",
    "\n",
    "print(chla_bloom_enero.getVideoThumbURL(videoArgs))"
   ]
  },
  {
   "cell_type": "code",
   "execution_count": null,
   "metadata": {},
   "outputs": [],
   "source": []
  }
 ],
 "metadata": {
  "kernelspec": {
   "display_name": "base",
   "language": "python",
   "name": "python3"
  },
  "language_info": {
   "codemirror_mode": {
    "name": "ipython",
    "version": 3
   },
   "file_extension": ".py",
   "mimetype": "text/x-python",
   "name": "python",
   "nbconvert_exporter": "python",
   "pygments_lexer": "ipython3",
   "version": "3.9.7"
  }
 },
 "nbformat": 4,
 "nbformat_minor": 2
}
